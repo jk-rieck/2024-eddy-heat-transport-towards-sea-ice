{
 "cells": [
  {
   "cell_type": "code",
   "execution_count": null,
   "id": "expressed-minimum",
   "metadata": {},
   "outputs": [],
   "source": [
    "import numpy as np\n",
    "import xarray as xr\n",
    "import xgcm\n",
    "import eddytools as et"
   ]
  },
  {
   "cell_type": "code",
   "execution_count": null,
   "id": "66a6e869-49c8-4c56-8c28-e03b07a93388",
   "metadata": {
    "tags": []
   },
   "outputs": [],
   "source": [
    "path = \"/path/to/model/output/\" \n",
    "eddypath = \"/path/to/tracked/eddies/\""
   ]
  },
  {
   "cell_type": "markdown",
   "id": "53e92526-d869-4bb8-93c3-e7ad92ae11d1",
   "metadata": {},
   "source": [
    "### Interpolation of fields for eddy detection\n",
    "We interpolate some variables and coordinates to F-points on the grid. Having everything on the same grid points facilitates the dtection and tracking. The F-point is chosen because vorticity and the Okubo-Weiss parameter naturally fall on this grid point.\n",
    "\n",
    "First, we open the dataset and define a grid for the interpolation."
   ]
  },
  {
   "cell_type": "code",
   "execution_count": null,
   "id": "e1816ef4-9217-44ef-80d4-143f6f57fe0e",
   "metadata": {
    "tags": []
   },
   "outputs": [],
   "source": [
    "ds = xr.open_zarr(path + \"zarr_Diags/output.5d.zarr/\")"
   ]
  },
  {
   "cell_type": "code",
   "execution_count": null,
   "id": "e720ac75-7a6f-4321-9b25-54661c481192",
   "metadata": {
    "tags": []
   },
   "outputs": [],
   "source": [
    "metrics = {\n",
    "    ('X'): ['dxC', 'dxG', 'dxF', 'dxV'], # X distances\n",
    "    ('Y'): ['dyC', 'dyG', 'dyF', 'dyU'], # Y distances\n",
    "    ('Z'): ['drF', 'drW', 'drS', 'drC'], # Z distances\n",
    "    ('X', 'Y'): ['rAw', 'rAs', 'rA', 'rAz'] # Areas in x-y plane\n",
    "}\n",
    "\n",
    "grid = xgcm.Grid(ds, periodic=[\"X\"], metrics=metrics)"
   ]
  },
  {
   "cell_type": "markdown",
   "id": "314d256c-cc49-4801-89d8-f33edb45748c",
   "metadata": {},
   "source": [
    "We need some additional masks at points where they are not natively defined."
   ]
  },
  {
   "cell_type": "code",
   "execution_count": null,
   "id": "99924d38-aefc-420f-979f-0ae424c0e6b9",
   "metadata": {},
   "outputs": [],
   "source": [
    "ds[\"maskF\"] = grid.interp(ds.maskS, \"X\")\n",
    "ds[\"maskF\"] = ds.maskF.where(ds.maskF == 0, other=1)\n",
    "ds['maskZ'] = grid.interp(ds['maskS'], \"X\", to=\"left\", metric_weighted=[\"X\", \"Y\"])\n",
    "ds['maskZ'] = ds['maskZ'].where(ds['maskZ']==1, other=0)\n",
    "ds = ds.set_coords([\"maskZ\", \"maskF\"]).chunk({'XC': 240, 'XG': 240, 'YC': 320, 'YG': 320})"
   ]
  },
  {
   "cell_type": "markdown",
   "id": "42b72d73-4a7e-4624-9265-da5f8a579f4e",
   "metadata": {},
   "source": [
    "We compute the Okubo-Weiss parameter and add it to the dataset."
   ]
  },
  {
   "cell_type": "code",
   "execution_count": null,
   "id": "d36d1b5d-94f9-4c97-a6fc-3efc9cf9d86b",
   "metadata": {
    "tags": []
   },
   "outputs": [],
   "source": [
    "data_OW = et.okuboweiss.calc(ds, grid, 'UVEL', 'VVEL')\n",
    "data_OW[\"OW\"] = data_OW.OW.chunk({\"YG\": 320, \"XG\": 240})\n",
    "data_OW[\"vort\"] = data_OW.vort.chunk({\"YG\": 320, \"XG\": 240})\n",
    "ds_mod = xr.merge([ds, data_OW], compat='override')"
   ]
  },
  {
   "cell_type": "markdown",
   "id": "bff93108-195d-44b9-90c7-2c2692a75ff6",
   "metadata": {},
   "source": [
    "We will apply a little workaround to track eddies across the periodic boundary in x-direction later on. We will extend the domain in x direction so that the first 800 km in x are added to the eastern end of the domain."
   ]
  },
  {
   "cell_type": "code",
   "execution_count": null,
   "id": "228ddb1c-d223-4e18-bb08-be0008be074b",
   "metadata": {},
   "outputs": [],
   "source": [
    "extension = 800 # extension in km\n",
    "extend = int(extension / (ds.dxC[0, 0].values / 1000.))"
   ]
  },
  {
   "cell_type": "markdown",
   "id": "e6eec765-1142-4949-bf22-8eea1eb30c73",
   "metadata": {},
   "source": [
    "Define which variables to interpolate and which to exclude from interpolation."
   ]
  },
  {
   "cell_type": "code",
   "execution_count": null,
   "id": "64fde237-eb5e-40a9-a6ab-75bec3a712d5",
   "metadata": {},
   "outputs": [],
   "source": [
    "variables = ['OW', 'vort']\n",
    "exclude = [\"XC\", \"XG\", \"iter\", \"layer_center\"]\n",
    "all_variables = variables + [\"OW_std\"]"
   ]
  },
  {
   "cell_type": "markdown",
   "id": "7cd180f7-f147-4f96-aa77-0b28a7c351d4",
   "metadata": {},
   "source": [
    "We loop over every year, first interpolate the data and then artificially extend the domain as mentioned above."
   ]
  },
  {
   "cell_type": "code",
   "execution_count": null,
   "id": "07ad3c6c-002f-4948-968d-95bbd28420fc",
   "metadata": {},
   "outputs": [],
   "source": [
    "for yy in np.arange(201, 301):\n",
    "    year = f\"{yy:04}\"\n",
    "    print(year)\n",
    "    time_range_start = year + '-01-01'\n",
    "    time_range_end = year + '-12-30'\n",
    "    # interpolation parameters for eddytools\n",
    "    interpolation_parameters = {'model': 'MITgcm',\n",
    "                                'grid': 'cartesian',\n",
    "                                'start_time': time_range_start, # time range start\n",
    "                                'end_time': time_range_end, # time range end\n",
    "                                'calendar': '360_day', # calendar, must be either 360_day or standard\n",
    "                                'lon1': 0.0e6, # minimum longitude of detection region\n",
    "                                'lon2': 2.4e6, # maximum longitude\n",
    "                                'lat1': 0.0e6, # minimum latitude\n",
    "                                'lat2': 3.2e6, # maximum latitude\n",
    "                                'res': 10., # resolution of the fields in km\n",
    "                                'vars_to_interpolate': variables,\n",
    "                                'mask_to_interpolate': ['maskZ', 'maskC', 'maskW', 'maskS', 'Depth'], \n",
    "                                                       # masks to interpolate\n",
    "                                'vars_to_filter': [], # variables to apply spatial filter to\n",
    "                                'cut_lon': 1500,\n",
    "                                'cut_lat': 1500\n",
    "                                }\n",
    "    # interpolate data\n",
    "    data_int, _ = et.interp.horizontal(ds_mod, metrics, interpolation_parameters)\n",
    "    # compute the spatial standard devitation of the Okubo-Weiss parameter at level 15\n",
    "    # and add that to the interpolated dataset\n",
    "    print(\"Computing spatial standard deviation of OW.\")\n",
    "    OW_tmp = data_int['OW']\n",
    "    OW_tmp = OW_tmp.where(OW_tmp != 0).isel(z=15).persist()\n",
    "    mean_OW_spatial_std = OW_tmp.rolling(\n",
    "                          lat=40, lon=(len(OW_tmp.lon) * 2) - 1, center=True, min_periods=1\n",
    "                          ).std(skipna=True).mean('time')\n",
    "    data_int = data_int.update({'OW_std': (['lat', 'lon'], \n",
    "                   mean_OW_spatial_std.values)}).chunk({'lon': 240, 'lat': 320})\n",
    "    # Now we extend the domain in x-direction\n",
    "    print(\"Extending variables:\")\n",
    "    ds_extended = xr.Dataset({\"time\": ([\"time\",], data_int.time.data),\n",
    "                              \"z\": ([\"z\",], data_int.z.data),\n",
    "                              \"lat\": ([\"lat\",], data_int.lat.data),\n",
    "                              \"lon\": ([\"lon\",], xr.concat([data_int[\"lon\"], data_int[\"lon\"][0:extend]\n",
    "                             + (data_int[\"lon\"][-1].values + data_int[\"lon\"][1].values)], dim=\"lon\").data)})\n",
    "    for var in all_variables:\n",
    "        if var not in ds_extended.coords:\n",
    "            print(\"-\", var)\n",
    "            if \"z\" in data_int[var].dims:\n",
    "                if \"time\" in data_int[var].dims:\n",
    "                    dims = [\"time\", \"z\", \"lat\", \"lon\"]\n",
    "                else:\n",
    "                    dims = [\"z\", \"lat\", \"lon\"]\n",
    "            else:\n",
    "                if \"time\" in data_int[var].dims:\n",
    "                    dims = [\"time\", \"lat\", \"lon\"]\n",
    "                else:\n",
    "                    dims = [\"lat\", \"lon\"]\n",
    "            if \"lon\" in data_int[var].dims:\n",
    "                ds_extended[var] = xr.DataArray(np.concatenate((data_int[var], \n",
    "                                                data_int[var].isel(lon=slice(0, extend))), axis=-1),\n",
    "                                                dims=dims)\n",
    "            else:\n",
    "                ds_extended[var] = xr.DataArray(data_int[var], dims=dims)\n",
    "        if var in variables:\n",
    "            ds_extended[var].attrs = ds_mod[var].attrs\n",
    "    ds_extended[\"time\"].attrs = ds[\"time\"].attrs\n",
    "    ds_extended[\"z\"].attrs = ds[\"Z\"].attrs\n",
    "    ds_extended[\"lat\"].attrs = ds[\"YG\"].attrs\n",
    "    ds_extended[\"lon\"].attrs = ds[\"XG\"].attrs\n",
    "    ds_extended[\"layer_center\"] = xr.DataArray(ds[\"layer_center\"].data, dims=[\"z\",])\n",
    "    ds_extended[\"layer_center\"].attrs = ds[\"layer_center\"].attrs\n",
    "    trs = time_range_start.translate({ord('-'): None})\n",
    "    tre = time_range_end.translate({ord('-'): None})\n",
    "    print(\"Saving to disk:\", eddypath + 'interp_data.extend800.' + trs + '_' + tre + '.nc')\n",
    "    ds_extended.sel(time=slice(time_range_start, time_range_end)).to_netcdf(eddypath \n",
    "                    + 'interp_data.extend800.' + trs + '_' + tre + '.nc', mode='w')"
   ]
  },
  {
   "cell_type": "code",
   "execution_count": null,
   "id": "d4b559d2-40f2-4494-9281-f5bacd3e1594",
   "metadata": {},
   "outputs": [],
   "source": []
  }
 ],
 "metadata": {
  "kernelspec": {
   "display_name": "Python eddytools",
   "language": "python",
   "name": "py_eddytools"
  },
  "language_info": {
   "codemirror_mode": {
    "name": "ipython",
    "version": 3
   },
   "file_extension": ".py",
   "mimetype": "text/x-python",
   "name": "python",
   "nbconvert_exporter": "python",
   "pygments_lexer": "ipython3",
   "version": "3.8.10"
  }
 },
 "nbformat": 4,
 "nbformat_minor": 5
}
