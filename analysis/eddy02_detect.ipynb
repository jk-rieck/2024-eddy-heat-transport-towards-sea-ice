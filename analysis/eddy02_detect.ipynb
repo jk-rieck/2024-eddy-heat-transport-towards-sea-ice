{
 "cells": [
  {
   "cell_type": "code",
   "execution_count": null,
   "id": "expressed-minimum",
   "metadata": {},
   "outputs": [],
   "source": [
    "import numpy as np\n",
    "import xarray as xr\n",
    "import pickle\n",
    "import eddytools as et"
   ]
  },
  {
   "cell_type": "code",
   "execution_count": null,
   "id": "relative-canvas",
   "metadata": {},
   "outputs": [],
   "source": [
    "path = \"/path/to/model/output/\" \n",
    "eddypath = \"/path/to/tracked/eddies/\""
   ]
  },
  {
   "cell_type": "markdown",
   "id": "313081f3-ec07-46d7-b2b4-68ef9772859a",
   "metadata": {},
   "source": [
    "### Eddy detection\n",
    "Eddy detection is performed on the extended domain in order to detect eddies that span across the periodic boundary of the model domain."
   ]
  },
  {
   "cell_type": "code",
   "execution_count": null,
   "id": "8ab2d115-111d-47ca-91dd-8e4dd39019ef",
   "metadata": {},
   "outputs": [],
   "source": [
    "for y in np.arange(201, 301):\n",
    "    year = f\"{y:04}\"\n",
    "    print(\"detecting in year\", str(year))\n",
    "    # loading the interpolated data for detection\n",
    "    data_int = xr.open_mfdataset(eddypath + 'interp_data.extend800.' + str(year) + '*.nc', \n",
    "                                 concat_dim=\"time\", combine=\"nested\", data_vars='minimal', \n",
    "                                 coords='minimal', compat='override')\n",
    "    for k in [15]:\n",
    "        # defining the detection parameters for eddytools\n",
    "        print(\"on level\", str(k))\n",
    "        detection_parameters = {'model': 'MITgcm',\n",
    "                                'grid': 'cartesian',\n",
    "                                'hemi': 'south',\n",
    "                                'start_time': str(year) + '-01-01', # time range start\n",
    "                                'end_time': str(year) + '-12-30', # time range end\n",
    "                                'calendar': '360_day', # calendar, must be either 360_day or standard\n",
    "                                'lon1': 0.2e6, # minimum longitude of detection region\n",
    "                                'lon2': 3.0e6, # maximum longitude\n",
    "                                'lat1': 0.1e6, # minimum latitude\n",
    "                                'lat2': 3.1e6, # maximum latitude\n",
    "                                'res': 10., # resolution of the fields in km\n",
    "                                'min_dep': 100, # minimum ocean depth where to look for eddies in m\n",
    "                                'OW_thr': data_int, # \n",
    "                                'OW_thr_name': 'OW_std', # Okubo-Weiss threshold for eddy detection\n",
    "                                'OW_thr_factor': -0.3, # Okubo-Weiss parameter threshold\n",
    "                                'Npix_min': 20, # minimum number of pixels (grid cells) to be considered as eddy\n",
    "                                'Npix_max': 500, # maximum number of pixels (grid cells)\n",
    "                                'no_long': False,\n",
    "                                'no_two': False\n",
    "                                } \n",
    "        # detect eddies in the extended domain\n",
    "        eddies_extended = et.detection.detect_OW(data_int.isel(z=k), detection_parameters, \n",
    "                                                'OW', 'vort', use_bags=True)\n",
    "        eddies = {}\n",
    "        for t in np.arange(0, len(eddies_extended)):\n",
    "            eddies[t] = {}\n",
    "            eddy = 0\n",
    "            # cutout only the \"real\" domain from the extendend one\n",
    "            for e in np.arange(0, len(eddies_extended[t])):\n",
    "                if ((eddies_extended[t][e]['lon'][0] >= 0.4e6) \n",
    "                    | (eddies_extended[t][e]['lon'][0] <= 2.8e6)):\n",
    "                    eddies[t][eddy] = eddies_extended[t][e]\n",
    "                    if eddies[t][eddy]['lon'][0] >= 2.4e6:\n",
    "                        eddies[t][eddy]['lon'][0] -= 2.4e6\n",
    "                        eddies[t][eddy]['eddy_i'] -= 240\n",
    "                    eddies[t][eddy]['eddy_i'][eddies[t][eddy]['eddy_i'] < 0] += 240\n",
    "                    eddies[t][eddy]['eddy_i'][eddies[t][eddy]['eddy_i'] >= 240] -= 240\n",
    "                    eddy += 1\n",
    "        # write eddies to disk\n",
    "        for i in np.arange(0, len(eddies)):\n",
    "            datestring = str(eddies[i][0]['time'])[0:10]\n",
    "            with open(eddypath + 'eddies/eddies_'\n",
    "                      + datestring + '.pickle', 'wb') as f:\n",
    "                pickle.dump(eddies[i], f, pickle.HIGHEST_PROTOCOL)\n",
    "            f.close()"
   ]
  },
  {
   "cell_type": "code",
   "execution_count": null,
   "id": "f215657e-57b7-44f3-9b31-99385b24d234",
   "metadata": {},
   "outputs": [],
   "source": []
  }
 ],
 "metadata": {
  "kernelspec": {
   "display_name": "Python eddytools",
   "language": "python",
   "name": "py_eddytools"
  },
  "language_info": {
   "codemirror_mode": {
    "name": "ipython",
    "version": 3
   },
   "file_extension": ".py",
   "mimetype": "text/x-python",
   "name": "python",
   "nbconvert_exporter": "python",
   "pygments_lexer": "ipython3",
   "version": "3.8.10"
  }
 },
 "nbformat": 4,
 "nbformat_minor": 5
}
