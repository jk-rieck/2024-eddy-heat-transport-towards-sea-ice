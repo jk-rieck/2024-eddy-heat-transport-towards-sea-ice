{
 "cells": [
  {
   "cell_type": "code",
   "execution_count": null,
   "id": "expressed-minimum",
   "metadata": {},
   "outputs": [],
   "source": [
    "import numpy as np\n",
    "import xarray as xr\n",
    "import pickle"
   ]
  },
  {
   "cell_type": "code",
   "execution_count": null,
   "id": "relative-canvas",
   "metadata": {},
   "outputs": [],
   "source": [
    "path = \"/path/to/model/output/\" \n",
    "eddypath = \"/path/to/tracked/eddies/\""
   ]
  },
  {
   "cell_type": "markdown",
   "id": "5448ed95-f411-45a1-80bd-0b4fc6f90e3a",
   "metadata": {},
   "source": [
    "### Eddy masks\n",
    "Here we create 4D (time, depth, lat, lon) masks that are 1 when an eddy is present at this location and 0 otherwise."
   ]
  },
  {
   "cell_type": "code",
   "execution_count": null,
   "id": "56dddf2b-5cae-43e8-9726-f683f3410aab",
   "metadata": {},
   "outputs": [],
   "source": [
    "for y in np.arange(201, 301):\n",
    "    year = f\"{y:04}\"\n",
    "    print(\"year\", year)\n",
    "    # loading the interpolated data without the extension\n",
    "    data_int = xr.open_mfdataset(eddypath + 'interp_data.extend800.' + str(year) + '*.nc', \n",
    "                             concat_dim=\"time\", combine=\"nested\", data_vars='minimal', \n",
    "                             coords='minimal', compat='override').isel(lon=slice(0, 240))\n",
    "    eddies_time_range = xr.cftime_range(start=year + '-01-03 00', end=year + '-12-30 00', \n",
    "                                        calendar='360_day', freq=str(5) + 'D')\n",
    "    etr = [str(eddies_time_range[t]) for t in range(0, len(eddies_time_range))]\n",
    "    k = 15\n",
    "    # load the detected eddies\n",
    "    eddies = {}\n",
    "    for i in np.arange(0, len(etr)):\n",
    "        datestring = etr[i][0:10]\n",
    "        with open(eddypath + 'eddies/eddies_'\n",
    "                  + datestring + '.pickle', 'rb') as f:\n",
    "            eddies[i] = pickle.load(f)\n",
    "        f.close()\n",
    "    # the threshold of the OW paramter used for detection\n",
    "    thresh = -0.3 * data_int.OW_std.mean(\"lon\")\n",
    "    tmpOW = data_int.OW\n",
    "    # create dataset that is 1 whenever OW is < threshold\n",
    "    ed_mask = tmpOW.where(tmpOW < thresh, 0)\n",
    "    ed_mask = ed_mask.where(tmpOW >= thresh, 1)\n",
    "    maske = np.zeros(np.shape(tmpOW))\n",
    "    maske_cyc = np.zeros(np.shape(tmpOW))\n",
    "    maske_ant = np.zeros(np.shape(tmpOW))\n",
    "    for t in range(0, len(ed_mask.time)):\n",
    "        emask = ed_mask.isel(time=t, z=0).values\n",
    "        # set the locations where \"OW < threshold\" and \"an eddy was detected\" to one in the mask\n",
    "        for e in range(0, len(eddies[t])):\n",
    "            eddy_i = eddies[t][e]['eddy_i']\n",
    "            eddy_j = eddies[t][e]['eddy_j']\n",
    "            maske[t, 0, eddy_j, eddy_i] = emask[eddy_j, eddy_i]\n",
    "            # do the same for cyclones and anticylones separately\n",
    "            if eddies[t][e]['type'] == \"cyclonic\":\n",
    "                maske_cyc[t, 0, eddy_j, eddy_i] = emask[eddy_j, eddy_i]\n",
    "            elif eddies[t][e]['type'] == \"anticyclonic\":\n",
    "                maske_ant[t, 0, eddy_j, eddy_i] = emask[eddy_j, eddy_i]\n",
    "    # and write the masks to disk\n",
    "    em = xr.DataArray(maske, coords={\"time\": ed_mask.time, \"z\": ed_mask.z,\n",
    "                                     \"lat\": ed_mask.lat, \"lon\": ed_mask.lon},\n",
    "                          dims=[\"time\", \"z\", \"lat\", \"lon\"], name='eddymask')\n",
    "    em.to_netcdf(eddypath + \"eddymask_\" + str(year) + \".nc\")\n",
    "    em_cyc = xr.DataArray(maske_cyc, coords={\"time\": ed_mask.time, \"z\": ed_mask.z,\n",
    "                                                 \"lat\": ed_mask.lat, \"lon\": ed_mask.lon},\n",
    "                              dims=[\"time\", \"z\", \"lat\", \"lon\"], name='eddymask_cyclones')\n",
    "    em_cyc.to_netcdf(eddypath + \"eddymask_cyclones_\" + str(year) + \".nc\")\n",
    "    em_ant = xr.DataArray(maske_ant, coords={\"time\": ed_mask.time, \"z\": ed_mask.z,\n",
    "                                                 \"lat\": ed_mask.lat, \"lon\": ed_mask.lon},\n",
    "                              dims=[\"time\", \"z\", \"lat\", \"lon\"], name='eddymask_anticyclones')\n",
    "    em_ant.to_netcdf(eddypath + \"eddymask_anticyclones_\" + str(year) + \".nc\")"
   ]
  }
 ],
 "metadata": {
  "kernelspec": {
   "display_name": "Python eddytools",
   "language": "python",
   "name": "py_eddytools"
  },
  "language_info": {
   "codemirror_mode": {
    "name": "ipython",
    "version": 3
   },
   "file_extension": ".py",
   "mimetype": "text/x-python",
   "name": "python",
   "nbconvert_exporter": "python",
   "pygments_lexer": "ipython3",
   "version": "3.8.10"
  }
 },
 "nbformat": 4,
 "nbformat_minor": 5
}
