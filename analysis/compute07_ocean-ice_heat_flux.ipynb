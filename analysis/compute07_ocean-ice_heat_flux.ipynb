{
 "cells": [
  {
   "cell_type": "code",
   "execution_count": null,
   "id": "expressed-minimum",
   "metadata": {},
   "outputs": [],
   "source": [
    "import numpy as np\n",
    "import xarray as xr\n",
    "import xgcm\n",
    "import seawater as sw"
   ]
  },
  {
   "cell_type": "code",
   "execution_count": null,
   "id": "2f1fe8ca-c614-4f25-9144-2dd36bf4a9fb",
   "metadata": {},
   "outputs": [],
   "source": [
    "path = \"/path/to/model/output/\" \n",
    "eddypath = \"/path/to/tracked/eddies/\""
   ]
  },
  {
   "cell_type": "markdown",
   "id": "c1ad1104-838b-4060-929e-e19e9bbb9073",
   "metadata": {},
   "source": [
    "### Compute the ocean-ice-heat flux\n",
    "The vertical heat flux from the ocean to the sea ice is estimated at the ocean surface as is done in the model by  \n",
    "\n",
    "$OIQ(y) = C_{p} \\rho \\gamma [\\overline{u^{*} (T - T_{f})}]$  \n",
    "\n",
    "where $\\gamma=0.006$ is a heat transfer coefficient and $u^{*}$ a friction velocity between ice and ocean, estimated as $u^{*} = \\sqrt{0.0054 (u^{2} + v^{2})}$. The mean and transient components are calculated as $\\langle OIQ(y) \\rangle = c_{p} \\rho \\gamma [\\overline{\\langle u^{*} \\rangle (T - T_{f})}]$, where $\\langle u^{*} \\rangle = \\sqrt{0.0054 \\langle u \\rangle^{2} + \\langle v \\rangle^{2}}$ and $OIQ' = C_{p} \\rho \\gamma [\\overline{(u^{*})' (T - T_{f})}]$, with $(u^{*})' = \\sqrt{0.0054 (u^{'2} + v^{'2})}$.\n",
    "\n",
    "We compute these term for the different seasons.  \n",
    "First, we define a function to compute the mean and anomalies."
   ]
  },
  {
   "cell_type": "code",
   "execution_count": null,
   "id": "cab4f10b-23c5-4f39-87c1-6a3b6aa28645",
   "metadata": {},
   "outputs": [],
   "source": [
    "def bar_prime_season(var, season):\n",
    "    varbar = var.groupby('time.month').mean(\"time\")\n",
    "    varbar_season = var.groupby('time.season').mean(\"time\").sel(season=season)\n",
    "    varprime = (var.groupby('time.month') - varbar)\n",
    "    return varbar_season, varprime"
   ]
  },
  {
   "cell_type": "markdown",
   "id": "e88d92e0-68b8-4c15-a486-f52a6abd9d5f",
   "metadata": {},
   "source": [
    "Defining some constants"
   ]
  },
  {
   "cell_type": "code",
   "execution_count": null,
   "id": "19f17ca0-366f-4ae9-9141-49aa7df7920a",
   "metadata": {},
   "outputs": [],
   "source": [
    "rho = 1035.\n",
    "Cp = 3994.\n",
    "gamma = 0.006"
   ]
  },
  {
   "cell_type": "markdown",
   "id": "bc54b534-0819-4d06-95e2-8549dfb70619",
   "metadata": {},
   "source": [
    "and loading the data, as well as defining the xgxm-grid for interpolation."
   ]
  },
  {
   "cell_type": "code",
   "execution_count": null,
   "id": "47f7d6ca-3f93-426f-b465-915b8d1c8561",
   "metadata": {},
   "outputs": [],
   "source": [
    "em = xr.open_mfdataset(eddypath + 'eddymask_0201-0300.nc', concat_dim=\"time\", combine=\"nested\",\n",
    "                                 data_vars='minimal', coords='minimal', \n",
    "                                 compat='override').rename({\"lon\": \"XG\", \"lat\": \"YG\"})\n",
    "em_cyclones = xr.open_mfdataset(eddypath + 'eddymask_cyclones_0201-0300.nc', concat_dim=\"time\", combine=\"nested\",\n",
    "                                          data_vars='minimal', coords='minimal', \n",
    "                                          compat='override').rename({\"lon\": \"XG\", \"lat\": \"YG\"})\n",
    "em_anticyclones = xr.open_mfdataset(eddypath + 'eddymask_anticyclones_0201-0300.nc', concat_dim=\"time\", combine=\"nested\",\n",
    "                                              data_vars='minimal', coords='minimal', \n",
    "                                              compat='override').rename({\"lon\": \"XG\", \"lat\": \"YG\"})\n",
    "ds = xr.open_zarr(path + \"zarr_Diags/output.5d.zarr\")\n",
    "metrics = {\n",
    "    ('X'): ['dxC', 'dxG', 'dxF', 'dxV'], # X distances\n",
    "    ('Y'): ['dyC', 'dyG', 'dyF', 'dyU'], # Y distances\n",
    "    ('Z'): ['drF', 'drW', 'drS', 'drC'], # Z distances\n",
    "    ('X', 'Y'): ['rAw', 'rAs', 'rA', 'rAz'] # Areas in x-y plane\n",
    "    }\n",
    "grid = xgcm.Grid(ds, periodic=[\"X\"], metrics=metrics)"
   ]
  },
  {
   "cell_type": "markdown",
   "id": "fab0ec13-ed3b-4a2d-87d3-3a70f6b57e40",
   "metadata": {},
   "source": [
    "For each decade, we loop over the four seasons."
   ]
  },
  {
   "cell_type": "code",
   "execution_count": null,
   "id": "2d9c4fa9-24f7-493b-9ac6-9118d1b1f3d7",
   "metadata": {},
   "outputs": [],
   "source": [
    "a = np.arange(201, 300, 10)\n",
    "b = np.arange(210, 301, 10)\n",
    "# loop over the decades\n",
    "for yy1, yy2 in zip(a, b):\n",
    "    y1 = f\"{yy1:04}\"\n",
    "    y2 = f\"{yy2:04}\"\n",
    "    print(y1,\"to\",y2)\n",
    "    # extract the eddymasks and data for the respective decade\n",
    "    eddymask = em.sel(time=slice(y1 + '-01-01', y2 + '-12-30')).eddymask_binary.squeeze()\n",
    "    eddymask_cyclones = em_cyclones.sel(time=slice(y1 + '-01-01', y2 + '-12-30')).eddymask_cyclones_binary.squeeze()\n",
    "    eddymask_anticyclones = em_anticyclones.sel(time=slice(y1 + '-01-01', y2 + '-12-30')).eddymask_anticyclones_binary.squeeze()\n",
    "    data = ds.sel(time=slice(y1 + \"-01-01\", y2 + \"-12-30\"))\n",
    "    # create timestamp for dataset to be saved to disk\n",
    "    savetime = data.time.isel(time=slice(int(len(data.time) / 2), int(len(data.time) / 2) + 1))\n",
    "    # extract the surace ocean level\n",
    "    data_surf = data.isel(Z=0)\n",
    "    # loop over the four seasons\n",
    "    for season in [\"DJF\", \"MAM\", \"JJA\", \"SON\"]:\n",
    "        # compute mean and anomalies\n",
    "        u_bar, u_prime = bar_prime_season(data_surf.UVEL, season)\n",
    "        v_bar, v_prime = bar_prime_season(data_surf.VVEL, season)\n",
    "        # calculate the surface speed to compute u^star\n",
    "        speed = (grid.interp(data_surf.UVEL ** 2., \"Y\", boundary=\"extend\") + grid.interp(data_surf.VVEL ** 2., \"X\", boundary=\"extend\")) ** 0.5\n",
    "        speed_bar = (grid.interp(u_bar ** 2., \"Y\", boundary=\"extend\") + grid.interp(v_bar ** 2., \"X\", boundary=\"extend\")) ** 0.5\n",
    "        speed_prime = (grid.interp(u_prime ** 2., \"Y\", boundary=\"extend\") + grid.interp(v_prime ** 2., \"X\", boundary=\"extend\")) ** 0.5\n",
    "        ustar = (0.0054 * (speed ** 2.)) ** 0.5\n",
    "        ustar_bar = (0.0054 * (speed_bar ** 2.)) ** 0.5\n",
    "        ustar_prime = (0.0054 * (speed_prime ** 2.)) ** 0.5\n",
    "        # substract reference temperature from model temperature (heat flux to the ice is defined based on local freezing point temp.)\n",
    "        tref = sw.eos80.fp(data_surf.SALT, 1.065)\n",
    "        T = data_surf.THETA - tref\n",
    "        # compute the different components of the heat flux\n",
    "        oiq_total = rho * Cp * gamma * ustar * grid.interp(T * data_surf.SIarea, \n",
    "                                                           (\"X\", \"Y\"), boundary=\"extend\")\n",
    "        oiq_bar = rho * Cp * gamma * (ustar_bar * grid.interp(T * data_surf.SIarea, \n",
    "                                                              (\"X\", \"Y\"), boundary=\"extend\")).groupby('time.season').mean(\"time\").sel(season=season)\n",
    "        oiq_prime = rho * Cp * gamma * ustar_prime * grid.interp(T * data_surf.SIarea, \n",
    "                                                                 (\"X\", \"Y\"), boundary=\"extend\")\n",
    "        oiq_prime_eddy = rho * Cp * gamma * ustar_prime * grid.interp(T * data_surf.SIarea, \n",
    "                                                                      (\"X\", \"Y\"), boundary=\"extend\") * eddymask\n",
    "        oiq_prime_eddy_cyclones = rho * Cp * gamma * ustar_prime * grid.interp(T * data_surf.SIarea, \n",
    "                                                                               (\"X\", \"Y\"), boundary=\"extend\") * eddymask_cyclones\n",
    "        oiq_prime_eddy_anticyclones = rho * Cp * gamma * ustar_prime * grid.interp(T * data_surf.SIarea, \n",
    "                                                                                   (\"X\", \"Y\"), boundary=\"extend\") * eddymask_anticyclones\n",
    "        #\n",
    "        OIQtotal = (oiq_total \n",
    "                    * data_surf.dxV * data_surf.dyU).groupby(\"time.season\").mean(\"time\").sel(season=season).sum(\"XG\")\n",
    "        OIQbar = (oiq_bar \n",
    "                  * data_surf.dxV * data_surf.dyU).sum(\"XG\")\n",
    "        OIQprime = (oiq_prime \n",
    "                    * data_surf.dxV * data_surf.dyU).groupby(\"time.season\").mean(\"time\").sel(season=season).sum(\"XG\")\n",
    "        OIQ_prime_eddy = (oiq_prime_eddy \n",
    "                          * data_surf.dxV * data_surf.dyU).groupby(\"time.season\").mean(\"time\").sel(season=season).sum(\"XG\")\n",
    "        OIQ_prime_eddy_cyclones = (oiq_prime_eddy_cyclones \n",
    "                                   * data_surf.dxV * data_surf.dyU).groupby(\"time.season\").mean(\"time\").sel(season=season).sum(\"XG\")\n",
    "        OIQ_prime_eddy_anticyclones = (oiq_prime_eddy_anticyclones \n",
    "                                       * data_surf.dxV * data_surf.dyU).groupby(\"time.season\").mean(\"time\").sel(season=season).sum(\"XG\")\n",
    "        #\n",
    "        OIQ = xr.Dataset(coords={\"time\": savetime, \"YG\": data.YG})\n",
    "        OIQ[\"OIQtotal\"] = xr.DataArray(OIQtotal.values[None, :], dims=(\"time\", \"YG\"))\n",
    "        OIQ[\"OIQbar\"] = xr.DataArray(OIQbar.values[None, :], dims=(\"time\", \"YG\"))\n",
    "        OIQ[\"OIQprime\"] = xr.DataArray(OIQprime.values[None, :], dims=(\"time\", \"YG\"))\n",
    "        OIQ[\"OIQprimeeddy\"] = xr.DataArray(OIQ_prime_eddy.values[None, :], dims=(\"time\", \"YG\"))\n",
    "        OIQ[\"OIQprimeeddy_cyclones\"] = xr.DataArray(OIQ_prime_eddy_cyclones.values[None, :], dims=(\"time\", \"YG\"))\n",
    "        OIQ[\"OIQprimeeddy_anticyclones\"] = xr.DataArray(OIQ_prime_eddy_anticyclones.values[None, :], dims=(\"time\", \"YG\"))\n",
    "        #\n",
    "        OIQ.to_netcdf(path + \"post/OIQ.\" + season + \".\" + y1 + \"_\" + y2 + \".nc\")"
   ]
  },
  {
   "cell_type": "code",
   "execution_count": null,
   "id": "1fdce9aa-b1f0-4e09-8d8e-624a644843f5",
   "metadata": {},
   "outputs": [],
   "source": []
  }
 ],
 "metadata": {
  "kernelspec": {
   "display_name": "Python eddytools",
   "language": "python",
   "name": "py_eddytools"
  },
  "language_info": {
   "codemirror_mode": {
    "name": "ipython",
    "version": 3
   },
   "file_extension": ".py",
   "mimetype": "text/x-python",
   "name": "python",
   "nbconvert_exporter": "python",
   "pygments_lexer": "ipython3",
   "version": "3.8.10"
  }
 },
 "nbformat": 4,
 "nbformat_minor": 5
}
