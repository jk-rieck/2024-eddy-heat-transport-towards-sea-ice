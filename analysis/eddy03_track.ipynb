{
 "cells": [
  {
   "cell_type": "code",
   "execution_count": null,
   "id": "expressed-minimum",
   "metadata": {},
   "outputs": [],
   "source": [
    "import numpy as np\n",
    "import xarray as xr\n",
    "import pickle\n",
    "import eddytools as et"
   ]
  },
  {
   "cell_type": "code",
   "execution_count": null,
   "id": "relative-canvas",
   "metadata": {},
   "outputs": [],
   "source": [
    "path = \"/path/to/model/output/\" \n",
    "eddypath = \"/path/to/tracked/eddies/\""
   ]
  },
  {
   "cell_type": "markdown",
   "id": "cf18487b-d120-49aa-91cc-31a3ebc05c24",
   "metadata": {},
   "source": [
    "### Eddy tracking\n",
    "The previously detected eddies are now tracked.  \n",
    "\n",
    "First we define the tracking parameters for eddytools."
   ]
  },
  {
   "cell_type": "code",
   "execution_count": null,
   "id": "8a7db7b1-60c9-449a-ad63-373496c12287",
   "metadata": {},
   "outputs": [],
   "source": [
    "tracking_parameters = {'model': 'MITgcm',\n",
    "                       'grid': 'cartesian',\n",
    "                       'start_time': '0201-01-03', # time range start\n",
    "                       'end_time': '0300-12-30', # time range end\n",
    "                       'calendar': '360_day', # calendar, must be either 360_day or standard\n",
    "                       'dt': 5, # temporal resolution of the data in days\n",
    "                       'lon1': 0.0e6, # minimum longitude of detection region\n",
    "                       'lon2': 2.4e6, # maximum longitude\n",
    "                       'lat1': 0.1e6, # minimum latitude\n",
    "                       'lat2': 3.1e6, # maximum latitude\n",
    "                       'res': 10.,\n",
    "                       'search_dist': 100.,\n",
    "                       'search_circle': True,\n",
    "                       'eddy_scale_min': 0.5, # minimum factor by which eddy amplitude and area are allowed to change in one timestep\n",
    "                       'eddy_scale_max': 1.5, # maximum factor by which eddy amplitude and area are allowed to change in one timestep\n",
    "                       'dict': 0, # dictionary containing detected eddies to be used when not stored in files (set to 0 otherwise)\n",
    "                       'data_path': eddypath, # path to the detected eddies pickle files\n",
    "                       'file_root': 'eddies/eddies',\n",
    "                       'file_spec': '',\n",
    "                       'ross_path': eddypath} # path to rossrad.dat containing Chelton et a1. 1998 Rossby radii"
   ]
  },
  {
   "cell_type": "markdown",
   "id": "67fbff39-3887-41f5-b5ee-0b5999d46cc7",
   "metadata": {},
   "source": [
    "Track eddies"
   ]
  },
  {
   "cell_type": "code",
   "execution_count": null,
   "id": "624ebeb6-858d-4640-860d-65fb4404bbc1",
   "metadata": {},
   "outputs": [],
   "source": [
    "tracks = et.tracking.track(tracking_parameters, in_file=True)"
   ]
  },
  {
   "cell_type": "markdown",
   "id": "5be6492f-5d43-457d-9c37-65f4f478eab6",
   "metadata": {},
   "source": [
    "And save tracks to disk."
   ]
  },
  {
   "cell_type": "code",
   "execution_count": null,
   "id": "e60016a2-a14c-4bbb-89af-98e218004cd0",
   "metadata": {},
   "outputs": [],
   "source": [
    "with open(eddypath\n",
    "          + 'tracks_02010101_03001230.all'\n",
    "          + '.pickle', 'wb') as f:\n",
    "    pickle.dump(tracks, f, pickle.HIGHEST_PROTOCOL)\n",
    "f.close()"
   ]
  },
  {
   "cell_type": "code",
   "execution_count": null,
   "id": "f7e8f41f-9057-4a5c-814c-51a968099f17",
   "metadata": {},
   "outputs": [],
   "source": []
  }
 ],
 "metadata": {
  "kernelspec": {
   "display_name": "Python eddytools",
   "language": "python",
   "name": "py_eddytools"
  },
  "language_info": {
   "codemirror_mode": {
    "name": "ipython",
    "version": 3
   },
   "file_extension": ".py",
   "mimetype": "text/x-python",
   "name": "python",
   "nbconvert_exporter": "python",
   "pygments_lexer": "ipython3",
   "version": "3.8.10"
  }
 },
 "nbformat": 4,
 "nbformat_minor": 5
}
