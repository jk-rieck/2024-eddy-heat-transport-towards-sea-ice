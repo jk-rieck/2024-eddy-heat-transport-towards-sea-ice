{
 "cells": [
  {
   "cell_type": "code",
   "execution_count": null,
   "id": "expressed-minimum",
   "metadata": {},
   "outputs": [],
   "source": [
    "import numpy as np\n",
    "import xarray as xr\n",
    "from matplotlib import pyplot as plt\n",
    "import json\n",
    "import xgcm"
   ]
  },
  {
   "cell_type": "code",
   "execution_count": null,
   "id": "relative-canvas",
   "metadata": {
    "tags": []
   },
   "outputs": [],
   "source": [
    "path = \"/path/to/model/output/\" \n",
    "eddypath = \"/path/to/tracked/eddies/\""
   ]
  },
  {
   "cell_type": "code",
   "execution_count": null,
   "id": "6bca5d45-8023-40db-a64e-0aecb5f12ea5",
   "metadata": {
    "tags": []
   },
   "outputs": [],
   "source": [
    "def get_stuff_at_y(ht, y, mld, drf):\n",
    "    HT = ht.isel(YG=y)\n",
    "    MLD = mld.isel(YG=y).values\n",
    "    HT_in_ML = HT.where(HT.Z >= -MLD, other=0)\n",
    "    drF_in_ML = drf.where(HT.Z.values >= -MLD, other=0)\n",
    "    HT_total_ML = (HT_in_ML * drF_in_ML.data).sum(\"Z\")\n",
    "    HT_out_ML = HT.where(HT.Z < -MLD, other=0)\n",
    "    return MLD, HT_total_ML, HT_out_ML"
   ]
  },
  {
   "cell_type": "code",
   "execution_count": null,
   "id": "edd9851d-29da-4156-8107-30b4d69cca98",
   "metadata": {},
   "outputs": [],
   "source": [
    "JJA = True"
   ]
  },
  {
   "cell_type": "code",
   "execution_count": null,
   "id": "07f2635e-f669-49ae-b158-28d71a0168b7",
   "metadata": {
    "tags": []
   },
   "outputs": [],
   "source": [
    "if JJA:\n",
    "    Ms = xr.open_mfdataset(eddypath + 'MHTs.JJA.0201-0300.nc')\n",
    "    MsML = xr.open_mfdataset(eddypath + 'MHTsML.JJA.0201-0300.nc')\n",
    "    MsNoML = xr.open_mfdataset(eddypath + 'MHTsNoML.JJA.0201-0300.nc')\n",
    "    Ts = xr.open_mfdataset(eddypath + 'THTs.JJA.0201-0300.nc').drop(\"z\")\n",
    "    TsML = xr.open_mfdataset(eddypath + 'THTsML.JJA.0201-0300.nc').drop(\"z\")\n",
    "    TsNoML = xr.open_mfdataset(eddypath + 'THTsNoML.JJA.0201-0300.nc').drop(\"z\")\n",
    "    VHT = xr.open_mfdataset(path + \"post/VHT_across_base_of_winter_MLD.JJA.0201-0300.nc\").rename({\"lat\": \"YG\"})\n",
    "    OIQ = xr.open_mfdataset(path + \"post/OIQ.JJA.0201-0300.nc\")\n",
    "else:\n",
    "    Ms = xr.open_mfdataset(eddypath + 'MHTs.0201-0300.nc')\n",
    "    MsML = xr.open_mfdataset(eddypath + 'MHTsML.0201-0300.nc')\n",
    "    MsNoML = xr.open_mfdataset(eddypath + 'MHTsNoML.0201-0300.nc')\n",
    "    Ts = xr.open_mfdataset(eddypath + 'THTs.0201-0300.nc').drop(\"z\")\n",
    "    TsML = xr.open_mfdataset(eddypath + 'THTsML.0201-0300.nc').drop(\"z\")\n",
    "    TsNoML = xr.open_mfdataset(eddypath + 'THTsNoML.0201-0300.nc').drop(\"z\")\n",
    "    VHT = xr.open_mfdataset(path + \"post/VHT_across_base_of_winter_MLD.0201-0300.nc\").rename({\"lat\": \"YG\"})\n",
    "    OIQ = xr.open_mfdataset(path + \"post/OIQ.JJA.0201-0300.nc\")"
   ]
  },
  {
   "cell_type": "code",
   "execution_count": null,
   "id": "f93bce81-c894-4bf4-94f0-84f8f1ef9aaa",
   "metadata": {
    "tags": []
   },
   "outputs": [],
   "source": [
    "data = xr.open_zarr(path + \"zarr_Diags/output.5d.zarr\").sel(time=slice(\"0201-01-01\", \"0300-12-30\"))"
   ]
  },
  {
   "cell_type": "code",
   "execution_count": null,
   "id": "81d4c2a9-cb28-4be9-b84f-ebd2cce15629",
   "metadata": {},
   "outputs": [],
   "source": [
    "metrics = {\n",
    "        ('X'): ['dxC', 'dxG', 'dxF', 'dxV'], # X distances\n",
    "        ('Y'): ['dyC', 'dyG', 'dyF', 'dyU'], # Y distances\n",
    "        ('Z'): ['drF', 'drW', 'drS', 'drC'], # Z distances\n",
    "        ('X', 'Y'): ['rAw', 'rAs', 'rA', 'rAz'] # Areas in x-y plane\n",
    "        }\n",
    "grid = xgcm.Grid(data, periodic=[\"X\"], metrics=metrics)"
   ]
  },
  {
   "cell_type": "code",
   "execution_count": null,
   "id": "775ef80c-b791-4ea8-961f-f32576ba8c48",
   "metadata": {
    "tags": []
   },
   "outputs": [],
   "source": [
    "meanJJAMLDxy = data.MXLDEPTH.groupby(\"time.season\").mean(\"time\").sel(season=\"JJA\").mean(\"XC\")\n",
    "meanJJAMLD = grid.interp(meanJJAMLDxy, \"Y\", boundary=\"extend\").compute()"
   ]
  },
  {
   "cell_type": "code",
   "execution_count": null,
   "id": "d2a6a14a-405f-4808-b889-98f4e4b09b8d",
   "metadata": {
    "tags": []
   },
   "outputs": [],
   "source": [
    "thickJJAxy = data.SIheff.groupby(\"time.season\").mean(\"time\").sel(season=\"JJA\").mean(\"XC\")\n",
    "thickJJA = grid.interp(thickJJAxy, \"Y\", boundary=\"extend\").compute()\n",
    "areaJJAxy = data.SIarea.groupby(\"time.season\").mean(\"time\").sel(season=\"JJA\").mean(\"XC\")\n",
    "areaJJA = grid.interp(areaJJAxy, \"Y\", boundary=\"extend\").compute()"
   ]
  },
  {
   "cell_type": "code",
   "execution_count": null,
   "id": "ad0cc860-9f50-42d5-aae8-2a9b517ec9f6",
   "metadata": {
    "tags": []
   },
   "outputs": [],
   "source": [
    "ice_edge15 = 320 - areaJJA.where(areaJJA <= 0.15, other=1)[::-1].argmax(\"YG\").values\n",
    "ice_edge80 = 320 - areaJJA.where(areaJJA <= 0.80, other=1)[::-1].argmax(\"YG\").values"
   ]
  },
  {
   "cell_type": "code",
   "execution_count": null,
   "id": "d2338e95-7b22-496c-ac7a-6343b2435a65",
   "metadata": {
    "tags": []
   },
   "outputs": [],
   "source": [
    "ML_at_190, MHT_ML_at_190, MHT_outside_ML_190 = get_stuff_at_y(Ms.MHT, 190, meanJJAMLD, data.drF)\n",
    "ML_at_190, THTdiv_ML_at_190, THTdiv_outside_ML_190 = get_stuff_at_y(Ts.THTdiv, 190, meanJJAMLD, data.drF)\n",
    "ML_at_190, THTdiveddy_ML_at_190, THTdiveddy_outside_ML_190 = get_stuff_at_y(Ts.THTdiveddy, 190, meanJJAMLD, data.drF)\n",
    "ML_at_190, total_ML_at_190, total_outside_ML_190 = get_stuff_at_y(Ms.MHT + Ts.THTdiv, 190, meanJJAMLD, data.drF)"
   ]
  },
  {
   "cell_type": "code",
   "execution_count": null,
   "id": "4a1a9ae3-9746-457e-af47-3fc650ad3081",
   "metadata": {
    "tags": []
   },
   "outputs": [],
   "source": [
    "ML_at_ice15, MHT_ML_at_ice15, MHT_outside_ML_ice15 = get_stuff_at_y(Ms.MHT, ice_edge15, meanJJAMLD, data.drF)\n",
    "ML_at_ice15, THTdiv_ML_at_ice15, THTdiv_outside_ML_ice15 = get_stuff_at_y(Ts.THTdiv, ice_edge15, meanJJAMLD, data.drF)\n",
    "ML_at_ice15, THTdiveddy_ML_at_ice15, THTdiveddy_outside_ML_ice15 = get_stuff_at_y(Ts.THTdiveddy, ice_edge15, meanJJAMLD, data.drF)\n",
    "ML_at_ice15, total_ML_at_ice15, total_outside_ML_ice15 = get_stuff_at_y(Ms.MHT + Ts.THTdiv, ice_edge15, meanJJAMLD, data.drF)"
   ]
  },
  {
   "cell_type": "code",
   "execution_count": null,
   "id": "b210806c-764f-4df9-9ed6-229689867706",
   "metadata": {
    "tags": []
   },
   "outputs": [],
   "source": [
    "ML_at_ice80, MHT_ML_at_ice80, MHT_outside_ML_ice80 = get_stuff_at_y(Ms.MHT, ice_edge80, meanJJAMLD, data.drF)\n",
    "ML_at_ice80, THTdiv_ML_at_ice80, THTdiv_outside_ML_ice80 = get_stuff_at_y(Ts.THTdiv, ice_edge80, meanJJAMLD, data.drF)\n",
    "ML_at_ice80, THTdiveddy_ML_at_ice80, THTdiveddy_outside_ML_ice80 = get_stuff_at_y(Ts.THTdiveddy, ice_edge80, meanJJAMLD, data.drF)\n",
    "ML_at_ice80, total_ML_at_ice80, total_outside_ML_ice80 = get_stuff_at_y(Ms.MHT + Ts.THTdiv, ice_edge80, meanJJAMLD, data.drF)"
   ]
  },
  {
   "cell_type": "code",
   "execution_count": null,
   "id": "88f91d1c-198b-4594-ba26-c497f38e727a",
   "metadata": {
    "tags": []
   },
   "outputs": [],
   "source": [
    "ML_at_80, MHT_ML_at_80, MHT_outside_ML_80 = get_stuff_at_y(Ms.MHT, 80, meanJJAMLD, data.drF)\n",
    "ML_at_80, THTdiv_ML_at_80, THTdiv_outside_ML_80 = get_stuff_at_y(Ts.THTdiv, 80, meanJJAMLD, data.drF)\n",
    "ML_at_80, THTdiveddy_ML_at_80, THTdiveddy_outside_ML_80 = get_stuff_at_y(Ts.THTdiveddy, 80, meanJJAMLD, data.drF)\n",
    "ML_at_80, total_ML_at_80, total_outside_ML_80 = get_stuff_at_y(Ms.MHT + Ts.THTdiv, 80, meanJJAMLD, data.drF)"
   ]
  },
  {
   "cell_type": "code",
   "execution_count": null,
   "id": "bed0b61d-b9f4-45b6-a3f6-db9361d45b0d",
   "metadata": {
    "tags": []
   },
   "outputs": [],
   "source": [
    "def print_results(total, mean, transient, eddy, text):\n",
    "    output = {}\n",
    "    output[\"total_mean\"] =  np.around(total.mean(\"time\").values / 1e10) / 100\n",
    "    output[\"total_std\"] = np.around(total.std(\"time\").values / 1e10) / 100\n",
    "    output[\"mean_mean\"] = np.around(mean.mean(\"time\").values / 1e10) / 100\n",
    "    output[\"mean_std\"] = np.around(mean.std(\"time\").values / 1e10) / 100\n",
    "    output[\"transient_mean\"] = np.around(transient.mean(\"time\").values / 1e10) / 100\n",
    "    output[\"transient_std\"] = np.around(transient.std(\"time\").values / 1e10) / 100\n",
    "    output[\"CME_mean\"] = np.around(eddy.mean(\"time\").values / 1e10) / 100\n",
    "    output[\"CME_std\"] = np.around(eddy.std(\"time\").values / 1e10) / 100\n",
    "    output[\"CME_percent\"] = np.around(eddy.mean(\"time\").values / transient.mean(\"time\").values * 1000) / 10\n",
    "    print(text, \"is \\n\", \n",
    "          str(output[\"total_mean\"]),\n",
    "          \"+-\", str(output[\"total_std\"]), \"TW\\n\",\n",
    "          \" contribution by the mean is\\n  \", str(output[\"mean_mean\"]),\n",
    "          \"+-\", str(output[\"mean_std\"]), \"TW\\n\",\n",
    "          \" contribution by the transient is\\n  \", str(output[\"transient_mean\"]),\n",
    "          \"+-\", str(output[\"transient_std\"]), \"TW\\n\",\n",
    "          \"  to that, CME contribute\\n   \", str(output[\"CME_mean\"]),\n",
    "          \"+-\", str(output[\"CME_std\"]), \"TW\\n\",\n",
    "          \"    or\", str(output[\"CME_percent\"]), \"%\")\n",
    "    return output"
   ]
  },
  {
   "cell_type": "code",
   "execution_count": null,
   "id": "a1823df2-6c95-4ede-89bc-1e2d0ec63f1e",
   "metadata": {},
   "outputs": [],
   "source": [
    "output = {}\n",
    "output[\"horizontal HT within ML\"] = {}\n",
    "output[\"horizontal HT within ML\"][\"at y=190\"] = print_results(total_ML_at_190, MHT_ML_at_190, \n",
    "                                                             THTdiv_ML_at_190, THTdiveddy_ML_at_190, \n",
    "                                                             \"heat transport within the ML at y=190\")\n",
    "\n",
    "output[\"horizontal HT within ML\"][\"at 15% ice\"] = print_results(total_ML_at_ice15, MHT_ML_at_ice15, \n",
    "                                                                THTdiv_ML_at_ice15, THTdiveddy_ML_at_ice15,\n",
    "                                                                \"heat transport within the ML at the 15% ice edge\")\n",
    "\n",
    "output[\"horizontal HT within ML\"][\"at 80% ice\"] = print_results(total_ML_at_ice80, MHT_ML_at_ice80, \n",
    "                                                                THTdiv_ML_at_ice80, THTdiveddy_ML_at_ice80, \n",
    "                                                                \"heat transport within the ML at the 80% ice edge\")\n",
    "\n",
    "output[\"horizontal HT within ML\"][\"at y=80\"] = print_results(total_ML_at_80, MHT_ML_at_80, \n",
    "                                                             THTdiv_ML_at_80, THTdiveddy_ML_at_80, \n",
    "                                                             \"heat transport within the ML at y=80\")\n",
    "\n",
    "output[\"horizontal HT below ML\"] = {}\n",
    "output[\"horizontal HT below ML\"][\"at y=190\"] = print_results((total_outside_ML_190 * data.drF.data).sum(\"Z\"), \n",
    "                                                             (MHT_outside_ML_190 * data.drF.data).sum(\"Z\"),\n",
    "                                                             (THTdiv_outside_ML_190 * data.drF.data).sum(\"Z\"), \n",
    "                                                             (THTdiveddy_outside_ML_190 * data.drF.data).sum(\"Z\"), \n",
    "                                                             \"heat transport below the ML at y=190\")\n",
    "\n",
    "output[\"horizontal HT below ML\"][\"at 15% ice\"] = print_results((total_outside_ML_ice15 * data.drF.data).sum(\"Z\"), \n",
    "                                                               (MHT_outside_ML_ice15 * data.drF.data).sum(\"Z\"), \n",
    "                                                               (THTdiv_outside_ML_ice15 * data.drF.data).sum(\"Z\"), \n",
    "                                                               (THTdiveddy_outside_ML_ice15 * data.drF.data).sum(\"Z\"), \n",
    "                                                               \"heat transport below the ML at 15% ice\")\n",
    "\n",
    "output[\"horizontal HT below ML\"][\"at 80% ice\"] = print_results((total_outside_ML_ice80 * data.drF.data).sum(\"Z\"), \n",
    "                                                               (MHT_outside_ML_ice80 * data.drF.data).sum(\"Z\"), \n",
    "                                                               (THTdiv_outside_ML_ice80 * data.drF.data).sum(\"Z\"), \n",
    "                                                               (THTdiveddy_outside_ML_ice80 * data.drF.data).sum(\"Z\"), \n",
    "                                                               \"heat transport below the ML at 80% ice\")\n",
    "\n",
    "output[\"horizontal HT below ML\"][\"at y=80\"] = print_results((total_outside_ML_80 * data.drF.data).sum(\"Z\"), \n",
    "                                                            (MHT_outside_ML_80 * data.drF.data).sum(\"Z\"), \n",
    "                                                            (THTdiv_outside_ML_80 * data.drF.data).sum(\"Z\"), \n",
    "                                                            (THTdiveddy_outside_ML_80 * data.drF.data).sum(\"Z\"), \n",
    "                                                            \"heat transport below the ML at y=80\")"
   ]
  },
  {
   "cell_type": "code",
   "execution_count": null,
   "id": "de7034a5-0265-4e96-8125-2373ca67ad44",
   "metadata": {
    "tags": []
   },
   "outputs": [],
   "source": [
    "def calc_vertical(data, ds, diff=False):\n",
    "    if diff:\n",
    "        fifteenice = (data.where(ds.YG < ds.YG.isel(YG=ice_edge15))).sum(\"YG\")\n",
    "        eightyice = (data.where(ds.YG < ds.YG.isel(YG=ice_edge80))).sum(\"YG\")\n",
    "        eighty = (data.where(ds.YG < ds.YG.isel(YG=80))).sum(\"YG\")\n",
    "    else:\n",
    "        fifteenice = (data.where(ds.YG < ds.YG.isel(YG=ice_edge15)) * ds.dyU.isel(XG=0)).sum(\"YG\")\n",
    "        eightyice = (data.where(ds.YG < ds.YG.isel(YG=ice_edge80)) * ds.dyU.isel(XG=0)).sum(\"YG\")\n",
    "        eighty = (data.where(ds.YG < ds.YG.isel(YG=80)) * ds.dyU.isel(XG=0)).sum(\"YG\")\n",
    "    fifteenice2eightyice = fifteenice - eightyice\n",
    "    eightyice2eighty = eightyice - eighty\n",
    "    eighty2zero = eighty \n",
    "    return fifteenice2eightyice, eightyice2eighty, eighty2zero"
   ]
  },
  {
   "cell_type": "code",
   "execution_count": null,
   "id": "850274cd-1424-4471-bd15-8efc0fe0e315",
   "metadata": {
    "tags": []
   },
   "outputs": [],
   "source": [
    "fice2eice_total, eice2e_total, e2zero_total = calc_vertical(VHT.VHTbar_ice15 + VHT.VHTprime_ice15, data)\n",
    "fice2eice_bar, eice2e_bar, e2zero_bar = calc_vertical(VHT.VHTbar_ice15, data)\n",
    "fice2eice_prime, eice2e_prime, e2zero_prime = calc_vertical(VHT.VHTprime_ice15, data)\n",
    "fice2eice_eddy, eice2e_eddy, e2zero_eddy = calc_vertical(VHT.VHTeddy_ice15, data)"
   ]
  },
  {
   "cell_type": "code",
   "execution_count": null,
   "id": "88148fb7-9c42-464c-b53e-fb9e17e92f38",
   "metadata": {},
   "outputs": [],
   "source": [
    "fice2eice_total_diff, eice2e_total_diff, e2zero_total_diff = calc_vertical(VHT.VHTDIFFbar_ice15 + VHT.VHTDIFFprime_ice15,\n",
    "                                                                           data, diff=True)\n",
    "fice2eice_bar_diff, eice2e_bar_diff, e2zero_bar_diff = calc_vertical(VHT.VHTDIFFbar_ice15, \n",
    "                                                                     data, diff=True)\n",
    "fice2eice_prime_diff, eice2e_prime_diff, e2zero_prime_diff = calc_vertical(VHT.VHTDIFFprime_ice15, \n",
    "                                                                           data, diff=True)\n",
    "fice2eice_eddy_diff, eice2e_eddy_diff, e2zero_eddy_diff = calc_vertical(VHT.VHTDIFFeddy_ice15, \n",
    "                                                                        data, diff=True)"
   ]
  },
  {
   "cell_type": "code",
   "execution_count": null,
   "id": "1860d905-9f8f-4359-b4e5-f60a76a7c3c3",
   "metadata": {
    "tags": []
   },
   "outputs": [],
   "source": [
    "output[\"vertical across base of ML\"] = {}\n",
    "output[\"vertical across base of ML\"][\"80% - 15% sea ice\"] = print_results(fice2eice_total, fice2eice_bar, \n",
    "                                                                          fice2eice_prime, fice2eice_eddy, \n",
    "                                                                          \"adv. heat into the ML between 80% and 15% ice\")\n",
    "\n",
    "output[\"vertical across base of ML\"][\"y=80 - 80% sea ice\"] = print_results(eice2e_total, eice2e_bar, \n",
    "                                                                           eice2e_prime, eice2e_eddy, \n",
    "                                                                           \"adv. heat into the ML between y=80 and 80% ice\")\n",
    "\n",
    "output[\"vertical across base of ML\"][\"y=0 - y=80\"] = print_results(e2zero_total, e2zero_bar, \n",
    "                                                                   e2zero_prime, e2zero_eddy, \n",
    "                                                                   \"adv. heat into the ML between southern boundary and y=80\")"
   ]
  },
  {
   "cell_type": "code",
   "execution_count": null,
   "id": "41c719e5-b1c7-418b-9b58-79060985c9c9",
   "metadata": {},
   "outputs": [],
   "source": [
    "output[\"vertical diff. across base of ML\"] = {}\n",
    "output[\"vertical diff. across base of ML\"][\"80% - 15% sea ice\"] = print_results(fice2eice_total_diff, fice2eice_bar_diff, \n",
    "                                                                          fice2eice_prime_diff, fice2eice_eddy_diff, \n",
    "                                                                          \"diff. heat into the ML between 80% and 15% ice\")\n",
    "\n",
    "output[\"vertical diff. across base of ML\"][\"y=80 - 80% sea ice\"] = print_results(eice2e_total_diff, eice2e_bar_diff, \n",
    "                                                                           eice2e_prime_diff, eice2e_eddy_diff, \n",
    "                                                                           \"diff. heat into the ML between y=80 and 80% ice\")\n",
    "\n",
    "output[\"vertical diff. across base of ML\"][\"y=0 - y=80\"] = print_results(e2zero_total_diff, e2zero_bar_diff, \n",
    "                                                                   e2zero_prime_diff, e2zero_eddy_diff, \n",
    "                                                                   \"diff. heat into the ML between southern boundary and y=80\")"
   ]
  },
  {
   "cell_type": "code",
   "execution_count": null,
   "id": "714f0c50-33f9-461b-a060-22710f909249",
   "metadata": {},
   "outputs": [],
   "source": [
    "def calc_ice_ocean(data, ds):\n",
    "    fifteenice = (data.where(ds.YG < ds.YG.isel(YG=ice_edge15))).sum(\"YG\")\n",
    "    eightyice = (data.where(ds.YG < ds.YG.isel(YG=ice_edge80))).sum(\"YG\")\n",
    "    eighty = (data.where(ds.YG < ds.YG.isel(YG=80))).sum(\"YG\")\n",
    "    fifteenice2eightyice = fifteenice - eightyice\n",
    "    eightyice2eighty = eightyice - eighty\n",
    "    eighty2zero = eighty \n",
    "    return fifteenice2eightyice, eightyice2eighty, eighty2zero"
   ]
  },
  {
   "cell_type": "code",
   "execution_count": null,
   "id": "e5039cef-fb63-461d-80d0-97d948701853",
   "metadata": {},
   "outputs": [],
   "source": [
    "OIQfice2eice_total, OIQeice2e_total, OIQe2zero_total = calc_ice_ocean(OIQ.OIQtotal, data)\n",
    "OIQfice2eice_bar, OIQeice2e_bar, OIQe2zero_bar = calc_ice_ocean(OIQ.OIQbar, data)\n",
    "OIQfice2eice_prime, OIQeice2e_prime, OIQe2zero_prime = calc_ice_ocean(OIQ.OIQprime, data)\n",
    "OIQfice2eice_eddy, OIQeice2e_eddy, OIQe2zero_eddy = calc_ice_ocean(OIQ.OIQtotaleddy, data)"
   ]
  },
  {
   "cell_type": "code",
   "execution_count": null,
   "id": "be12dda9-e9d5-4c00-b9f4-dc79392e930a",
   "metadata": {
    "tags": []
   },
   "outputs": [],
   "source": [
    "output[\"vertical from ocean to ice\"] = {}\n",
    "output[\"vertical from ocean to ice\"][\"80% - 15% sea ice\"] = print_results(OIQfice2eice_total, OIQfice2eice_bar, \n",
    "                                                                          OIQfice2eice_prime, OIQfice2eice_eddy, \n",
    "                                                                          \"heat into ice between 80 and 15 % ice\")\n",
    "\n",
    "output[\"vertical from ocean to ice\"][\"y=80 - 80% sea ice\"] = print_results(OIQeice2e_total, OIQeice2e_bar, \n",
    "                                                                           OIQeice2e_prime, OIQeice2e_eddy, \n",
    "                                                                           \"heat into ice between y=80 and 80% ice\")\n",
    "\n",
    "output[\"vertical from ocean to ice\"][\"y=0 - y=80\"] = print_results(OIQe2zero_total, OIQe2zero_bar, \n",
    "                                                                   OIQe2zero_prime, OIQe2zero_eddy, \n",
    "                                                                   \"heat into ice between y=80 and zero\")"
   ]
  },
  {
   "cell_type": "code",
   "execution_count": null,
   "id": "f7bd4e3c-fd2d-4b3c-a569-abd515ca23a7",
   "metadata": {},
   "outputs": [],
   "source": [
    "if JJA:\n",
    "    with open(path + 'post/table_of_fluxes.JJA.json', 'w', encoding='utf-8') as f: \n",
    "        json.dump(output, f, ensure_ascii=False, indent=4)\n",
    "else:\n",
    "    with open(path + 'post/table_of_fluxes.json', 'w', encoding='utf-8') as f: \n",
    "        json.dump(output, f, ensure_ascii=False, indent=4)"
   ]
  },
  {
   "cell_type": "code",
   "execution_count": null,
   "id": "14cc875b-3a7d-4550-a579-ecec1def9e4d",
   "metadata": {},
   "outputs": [],
   "source": []
  }
 ],
 "metadata": {
  "kernelspec": {
   "display_name": "Python eddytools",
   "language": "python",
   "name": "py_eddytools"
  },
  "language_info": {
   "codemirror_mode": {
    "name": "ipython",
    "version": 3
   },
   "file_extension": ".py",
   "mimetype": "text/x-python",
   "name": "python",
   "nbconvert_exporter": "python",
   "pygments_lexer": "ipython3",
   "version": "3.8.10"
  }
 },
 "nbformat": 4,
 "nbformat_minor": 5
}
