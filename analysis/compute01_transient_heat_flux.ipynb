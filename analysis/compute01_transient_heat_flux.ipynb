{
 "cells": [
  {
   "cell_type": "code",
   "execution_count": 4,
   "id": "expressed-minimum",
   "metadata": {},
   "outputs": [],
   "source": [
    "import numpy as np\n",
    "import xarray as xr\n",
    "import xgcm\n",
    "import dask"
   ]
  },
  {
   "cell_type": "code",
   "execution_count": 5,
   "id": "2f1fe8ca-c614-4f25-9144-2dd36bf4a9fb",
   "metadata": {},
   "outputs": [],
   "source": [
    "path = \"/path/to/model/output/\" "
   ]
  },
  {
   "cell_type": "markdown",
   "id": "ae523e12-dd95-40b9-b5d4-2d0e2face164",
   "metadata": {},
   "source": [
    "### Compute heat flux\n",
    "Compute the transient heat flux based on 5-day anomalies to a climatological seasonal cycle:  \n",
    "\n",
    "$THT = \\rho C_{p} \\, v'T'$  \n",
    "\n",
    "with\n",
    "$v' = v - \\langle v \\rangle$ and $T' = T - \\langle T \\rangle$  \n",
    "where $\\langle \\, \\rangle$  indicates a seasonal climatology, $\\rho=1035$ kg m$^{-3}$ is a reference density and $C_{p}=3994$ J$\\,$kg$^{-1}\\,$K$^{-1}$ is the specific heat capacity of seawater at constant pressure."
   ]
  },
  {
   "cell_type": "code",
   "execution_count": 6,
   "id": "1c3bc0b9-73be-4624-b494-9cab16eb20ae",
   "metadata": {},
   "outputs": [
    {
     "name": "stdout",
     "output_type": "stream",
     "text": [
      "0\n",
      "1\n",
      "2\n",
      "3\n",
      "4\n",
      "5\n",
      "6\n",
      "7\n",
      "8\n",
      "9\n"
     ]
    }
   ],
   "source": [
    "# definition of constants\n",
    "rho = 1035.\n",
    "Cp = 3994.\n",
    "\n",
    "# define grid metrics for interpolation of T to u- and v-points\n",
    "metrics = {\n",
    "    ('X'): ['dxC', 'dxG', 'dxF', 'dxV'], # X distances\n",
    "    ('Y'): ['dyC', 'dyG', 'dyF', 'dyU'], # Y distances\n",
    "    ('Z'): ['drF', 'drW', 'drS', 'drC'], # Z distances\n",
    "    ('X', 'Y'): ['rAw', 'rAs', 'rA', 'rAz'] # Areas in x-y plane\n",
    "}\n",
    "\n",
    "# compute seperately for each decade to get an idea of the internal variability across decades\n",
    "for y in range(0,10):\n",
    "    print(y)\n",
    "    y1 = \"02\" + str(y) + \"1\"\n",
    "    y2 = \"0\" + str(int(y1)+9)\n",
    "    data = xr.open_zarr(path + \"zarr_Diags/output.5d.zarr/\").sel(time=slice(y1 + '-01-01', y2 + '-12-30'))\n",
    "    with dask.config.set(**{'array.slicing.split_large_chunks': True}):\n",
    "        ubar = data.UVEL.groupby('time.month').mean(\"time\")\n",
    "        vbar = data.VVEL.groupby('time.month').mean(\"time\")\n",
    "        tbar = data.THETA.groupby('time.month').mean(\"time\")\n",
    "        uprime = data.UVEL.groupby('time.month') - ubar\n",
    "        vprime = data.VVEL.groupby('time.month') - vbar\n",
    "        tprime = data.THETA.groupby('time.month') - tbar\n",
    "    grid = xgcm.Grid(data, periodic=[\"X\"], metrics=metrics)\n",
    "    THT = xr.Dataset()\n",
    "    THT[\"THTu\"] = rho * Cp * (uprime * grid.interp(tprime, \"X\") * data.hFacW)\n",
    "    THT[\"THTv\"] = rho * Cp * (vprime * grid.interp(tprime, \"Y\", boundary=\"fill\", fill_value=0) * data.hFacS)\n",
    "    THT.to_netcdf(path + \"post/THT.\" + y1 + \"_\" + y2 + \".nc\")"
   ]
  },
  {
   "cell_type": "code",
   "execution_count": null,
   "id": "eb2859d4-b32b-43d9-8da4-6f08733ee0b7",
   "metadata": {},
   "outputs": [],
   "source": []
  }
 ],
 "metadata": {
  "kernelspec": {
   "display_name": "Python eddytools",
   "language": "python",
   "name": "py_eddytools"
  },
  "language_info": {
   "codemirror_mode": {
    "name": "ipython",
    "version": 3
   },
   "file_extension": ".py",
   "mimetype": "text/x-python",
   "name": "python",
   "nbconvert_exporter": "python",
   "pygments_lexer": "ipython3",
   "version": "3.8.10"
  }
 },
 "nbformat": 4,
 "nbformat_minor": 5
}
