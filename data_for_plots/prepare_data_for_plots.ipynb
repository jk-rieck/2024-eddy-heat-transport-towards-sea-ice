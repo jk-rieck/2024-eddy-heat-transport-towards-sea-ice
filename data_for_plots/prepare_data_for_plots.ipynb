{
 "cells": [
  {
   "cell_type": "code",
   "execution_count": null,
   "id": "9dd6a219-b71c-4b66-8f17-2fc54500132a",
   "metadata": {},
   "outputs": [],
   "source": [
    "import numpy as np\n",
    "import xarray as xr\n",
    "import postmit as pm\n",
    "import pickle\n",
    "import xgcm"
   ]
  },
  {
   "cell_type": "code",
   "execution_count": null,
   "id": "cb3c6bfb-a117-4b6b-b162-134f2beebe7a",
   "metadata": {},
   "outputs": [],
   "source": [
    "path = \"/path/to/model/output/\"\n",
    "path_obs = \"/path/to/obs/\""
   ]
  },
  {
   "cell_type": "markdown",
   "id": "17753344-9816-467b-8c38-00345df98054",
   "metadata": {},
   "source": [
    "### Figure 1\n",
    "\n",
    "We need a 5d mean of `THETA` and `SIarea` as well as the mean residual overturning circulation remapped to z-levels."
   ]
  },
  {
   "cell_type": "code",
   "execution_count": null,
   "id": "44f4625c-94f0-42d3-b743-65a29ade9264",
   "metadata": {},
   "outputs": [],
   "source": [
    "ds_1y = pm.checks.apply_all_checks(xr.open_zarr(path + \"run/zarr_Diags/output.1y.zarr/\"), \n",
    "                                   path_to_input=path + \"/input/\")\n",
    "ds_5d = pm.checks.apply_all_checks(xr.open_zarr(path + \"run/zarr_Diags/output.5d.zarr/\"), \n",
    "                                   path_to_input=path + \"/input/\")"
   ]
  },
  {
   "cell_type": "markdown",
   "id": "e6b5af13-b7c2-4cc5-85c7-06cfa2d50d4c",
   "metadata": {},
   "source": [
    "Defining a xgcm-grid for interpolation etc."
   ]
  },
  {
   "cell_type": "code",
   "execution_count": null,
   "id": "5e4fbcac-0f56-4732-8c7d-a0162c94f6b2",
   "metadata": {},
   "outputs": [],
   "source": [
    "metrics = {\n",
    "    ('X'): ['dxC', 'dxG', 'dxF', 'dxV'], # X distances\n",
    "    ('Y'): ['dyC', 'dyG', 'dyF', 'dyU'], # Y distances\n",
    "    ('Z'): ['drF', 'drW', 'drS', 'drC'], # Z distances\n",
    "    ('X', 'Y'): ['rAw', 'rAs', 'rA', 'rAz'] # Areas in x-y plane\n",
    "}\n",
    "\n",
    "grid = xgcm.Grid(ds_5d, periodic=[\"X\"], metrics=metrics)"
   ]
  },
  {
   "cell_type": "markdown",
   "id": "936ed861-c746-4fa5-871d-4315279a7356",
   "metadata": {},
   "source": [
    "We compute the residual overturning based on $\\sigma_{2}$."
   ]
  },
  {
   "cell_type": "code",
   "execution_count": null,
   "id": "ba1f042c-ef0d-47bd-bdb0-006769803888",
   "metadata": {},
   "outputs": [],
   "source": [
    "ds_5d = pm.calcs.sigi(ds_5d, 2)\n",
    "ds_5d[\"SIG2\"] = ds_5d.SIG2.where(ds_5d.SIG2 > 1010.)"
   ]
  },
  {
   "cell_type": "markdown",
   "id": "de4f8f37-c243-48ba-b8b0-a721bdcc85cb",
   "metadata": {},
   "source": [
    "These are the bounds of the isopycnal layers that we will project onto. Note that we obviously do not expect $\\sigma_{2}$ to be 0 or 100 but we include the extremes to make sure we capture the full circulation."
   ]
  },
  {
   "cell_type": "code",
   "execution_count": null,
   "id": "f60862f7-54b0-4102-b493-02676c5c5966",
   "metadata": {},
   "outputs": [],
   "source": [
    "layer_bounds = np.hstack(([0., 10., 20., 25., 30., 31.], \n",
    "                           np.arange(32., 35., 0.1),\n",
    "                           np.arange(35., 36., 0.05),\n",
    "                           np.arange(36., 36.9, 0.02),\n",
    "                           np.arange(36.9, 37.199, 0.01),\n",
    "                           np.arange(37.2, 37.6, 0.02),\n",
    "                           np.arange(37.6, 37.8, 0.01),\n",
    "                           np.arange(37.8, 37.899, 0.05),\n",
    "                           [37.9, 38., 38.1, 38.3, 38.5, 39., 40., 45., 50., 100.]))"
   ]
  },
  {
   "cell_type": "markdown",
   "id": "8f89774b-07d7-4fd9-bbdf-b5976aa2dd29",
   "metadata": {},
   "source": [
    "We create a mask to exclude the shelf. The dataset does already include masks but due to the interpolation, we need to extend the existing mask one grid point \"into the ocean\"."
   ]
  },
  {
   "cell_type": "code",
   "execution_count": null,
   "id": "5918ff62-bfa6-41a7-a96a-795de43cb279",
   "metadata": {},
   "outputs": [],
   "source": [
    "maskShelf = np.ones(np.shape(ds_5d.maskC))\n",
    "for k in np.arange(0, np.shape(maskShelf)[0]):\n",
    "    firstwet = np.argmax(ds_5d.VVEL[0, k, :, 0].values != 0.)\n",
    "    maskShelf[k, 0:firstwet+1, :] = 0\n",
    "\n",
    "ds_5d[\"maskShelf\"] = xr.DataArray(maskShelf, dims=(\"Z\", \"YG\", \"XC\"))"
   ]
  },
  {
   "cell_type": "code",
   "execution_count": null,
   "id": "e53e2491-f70a-4ff2-b5e5-8b54d13a7166",
   "metadata": {},
   "outputs": [],
   "source": [
    "dz = ds_5d.drF\n",
    "ds_5d[\"VTRANS\"] = (ds_5d.VVEL * dz).where(ds_5d.maskShelf != 0).rename(\"VTRANS\")\n",
    "ds_5d[\"levThick\"] = (ds_5d.drF * ds_5d.hFacS * ds_5d.maskS).expand_dims(dim={\"time\": ds_5d.time})\n",
    "\n",
    "part1 = grid.interp(ds_5d.SIG2, \"Z\", to=\"left\", boundary=\"extend\").rename({\"Zl\": \"Zp1\"})\n",
    "part2 = grid.interp(ds_5d.SIG2, \"Z\", to=\"right\", boundary=\"extend\").isel(Zu=slice(-1, None)).rename({\"Zu\": \"Zp1\"})\n",
    "SIG2b = xr.concat((part1, part2), dim=\"Zp1\")\n",
    "SIG2vb = grid.interp(SIG2b - 1000., \"Y\", boundary=\"extend\").rename(\"SIG2\").chunk({\"Zp1\": -1})\n",
    "\n",
    "VTRANS_rho = grid.transform(ds_5d.VTRANS, \"Z\", layer_bounds, target_data=SIG2vb, method='conservative').rename({\"SIG2\": \"layer_center\"})\n",
    "iso = xr.Dataset(coords={\"layer_bounds\": layer_bounds, \"layer_center\": VTRANS_rho.layer_center})\n",
    "iso[\"VTRANS\"] = VTRANS_rho.chunk({\"time\": 720, \"YG\": 320, \"XC\":240, \"layer_center\": 1})\n",
    "iso[\"levThick\"] = grid.transform(ds_5d.levThick, \"Z\", layer_bounds, target_data=SIG2vb, method='conservative').rename({\"SIG2\": \"layer_center\"})\n",
    "\n",
    "iso[\"MOC_res\"] = -grid.integrate(iso.VTRANS.cumsum(dim=\"layer_center\"), \"X\").chunk({\"layer_center\": 182})\n",
    "iso[\"MOC_res\"] = iso.MOC_res.where(iso.VTRANS.sum(\"XC\")!=0)\n",
    "\n",
    "iso[\"layer_depths\"] = xr.DataArray(-iso.levThick.mean(\"time\").sortby(\"layer_center\", ascending=True).cumsum(dim=\"layer_center\"))\n",
    "iso[\"levThickmean\"] = xr.DataArray(iso.levThick.mean(\"time\")))\n",
    "metrics_tmp = {\n",
    "    ('Z'): ['levThickmean'], # Z distances\n",
    "    }\n",
    "iso[\"layer_center\"].attrs[\"axis\"] = \"Z\"\n",
    "iso[\"layer_bounds\"].attrs[\"axis\"] = \"Z\"\n",
    "iso[\"layer_bounds\"].attrs[\"c_grid_axis_shift\"] = -0.5\n",
    "gridtmp = xgcm.Grid(iso, periodic=False, metrics=metrics_tmp)\n",
    "MOC_res_z = gridtmp.transform(iso[\"MOC_res\"], \"Z\", ds_5d.Z, target_data=iso.layer_depths.mean(\"XC\"))\n",
    "ds_mean_MOC_res_z = MOC_res_z.mean(\"time\")\n",
    "ds_mean_MOC_res_z.to_netcdf(\"MOC_res_z_0201-01-01_0300-12-30.nc\")\n",
    "MOC_res_z_JJA = MOC_res_z.groupby(\"time.season\").mean(\"time\").sel(season=\"JJA\")\n",
    "MOC_res_JJA = iso.MOC_res.groupby(\"time.season\").mean(\"time\").sel(season=\"JJA\")\n",
    "MOC_res_z_JJA.to_netcdf(\"MOC_res_z_0201-01-01_0300-12-30_JJA.nc\")\n",
    "MOC_res_JJA.to_netcdf(\"MOC_res_0201-01-01_0300-12-30_JJA.nc\")"
   ]
  },
  {
   "cell_type": "markdown",
   "id": "fd26161d-a5ed-43be-83c7-2b5343a4a8f1",
   "metadata": {},
   "source": [
    "We will take `0250-09-03` as the snapshot and compute the mean over the whole 100 years."
   ]
  },
  {
   "cell_type": "code",
   "execution_count": null,
   "id": "5b846e22-1dab-431f-88c2-c051646c0e17",
   "metadata": {},
   "outputs": [],
   "source": [
    "t1_mean = '0201-01-01'\n",
    "t2_mean = '0300-12-30'\n",
    "t_snap = '0250-09-03' "
   ]
  },
  {
   "cell_type": "code",
   "execution_count": null,
   "id": "1db36d80-215c-4380-945c-18a35731a278",
   "metadata": {},
   "outputs": [],
   "source": [
    "ds_snap = ds_5d.sel(time=t_snap).mean(\"time\")\n",
    "ds_mean = ds_1y.sel(time=slice(t1_mean, t2_mean)).mean(\"time\")"
   ]
  },
  {
   "cell_type": "code",
   "execution_count": null,
   "id": "d4229a18-27c4-40ef-92c6-58c72dea7728",
   "metadata": {},
   "outputs": [],
   "source": [
    "x2 = 2.4e6\n",
    "y1 = 0.01e6"
   ]
  },
  {
   "cell_type": "code",
   "execution_count": null,
   "id": "4cf60299-c8fb-4b7e-b3c7-e1e381e6f1c0",
   "metadata": {},
   "outputs": [],
   "source": [
    "THETAyz = ds_snap.THETA.sel(XC=x2, method='nearest')\n",
    "THETAxz = ds_snap.THETA.sel(YC=y1, method='nearest')\n",
    "THETAsurf = ds_snap.THETA.isel(Z=0)"
   ]
  },
  {
   "cell_type": "markdown",
   "id": "44429477-8446-4335-ba85-423f2e5ccd17",
   "metadata": {},
   "source": [
    "Now we save the computed variables to plot them later."
   ]
  },
  {
   "cell_type": "code",
   "execution_count": null,
   "id": "905acb95-62b4-47d9-b5a2-10a46dba1647",
   "metadata": {},
   "outputs": [],
   "source": [
    "THETAsurf.to_netcdf(\"THETA_0250-09-03_surf.nc\")\n",
    "THETAyz.to_netcdf(\"THETA_0250-09-03_yz.nc\")\n",
    "THETAxz.to_netcdf(\"THETA_0250-09-03_xz.nc\")\n",
    "ds_snap.SIarea.to_netcdf(\"SIarea_0250-09-03.nc\")"
   ]
  },
  {
   "cell_type": "markdown",
   "id": "ee5635c5-6491-48c2-bbb3-1f36fe1bafda",
   "metadata": {},
   "source": [
    "### Figure 2\n",
    "For figure 2 we need the model average, zonal mean `THETA`, `SALT` and `UVEL` as well as the winter (JJA) mean, zonal average `SIarea` and `SIheff`. We also use observational data: temperature and salinity from WOA18, zonal velocity from SLTAC and sea ice concentration from NSIDC."
   ]
  },
  {
   "cell_type": "code",
   "execution_count": null,
   "id": "565ede87-89bb-4414-a157-b574f265567b",
   "metadata": {},
   "outputs": [],
   "source": [
    "ds_meanX = ds_mean.reset_coords().mean((\"XC\", \"XG\"))\n",
    "for coord in ds_1y.coords:\n",
    "    if coord in ds_meanX.variables:\n",
    "        ds_meanX = ds_meanX.set_coords(coord)"
   ]
  },
  {
   "cell_type": "code",
   "execution_count": null,
   "id": "0950f58e-ffe4-472d-a2e6-2cff23509de0",
   "metadata": {},
   "outputs": [],
   "source": [
    "ds_meanX.THETA.to_netcdf(\"THETA_0201-01-01_0300-12-30_zonal_mean.nc\")\n",
    "ds_meanX.SALT.to_netcdf(\"SALT_0201-01-01_0300-12-30_zonal_mean.nc\")\n",
    "ds_meanX.UVEL.to_netcdf(\"UVEL_0201-01-01_0300-12-30_zonal_mean.nc\")"
   ]
  },
  {
   "cell_type": "code",
   "execution_count": null,
   "id": "704bae9a-7ba1-48a1-b249-848c16a4661f",
   "metadata": {},
   "outputs": [],
   "source": [
    "ds_JJA = ds_5d.groupby(\"time.season\").mean(\"time\").sel(season=\"JJA\").reset_coords().mean((\"XC\", \"XG\"))\n",
    "for coord in ds_5d.coords:\n",
    "    if coord in ds_JJA.variables:\n",
    "        ds_JJA = ds_JJA.set_coords(coord)"
   ]
  },
  {
   "cell_type": "code",
   "execution_count": null,
   "id": "8f985b07-2382-4f79-aa9b-02f63cb918bd",
   "metadata": {},
   "outputs": [],
   "source": [
    "ds_JJA.SIarea.to_netcdf(\"SIarea_0201-01-01_0300-12-30_JJA_zonal_mean.nc\")\n",
    "ds_JJA.SIheff.to_netcdf(\"SIheff_0201-01-01_0300-12-30_JJA_zonal_mean.nc\")"
   ]
  },
  {
   "cell_type": "markdown",
   "id": "0a816048-f19c-417f-be0d-9b4ec80e02bc",
   "metadata": {},
   "source": [
    "#### WOA18  \n",
    "We use the 1985-1994 average from WOA18 as that corresponds to the initial conditions. This average was used because the atmospheric forcing is the repeated year 1991. Also, we only use the WOA18 data up to the maximum depth of the simulation."
   ]
  },
  {
   "cell_type": "code",
   "execution_count": null,
   "id": "03fcedf3-1ea3-4cc7-8f8e-d6a3dda7524d",
   "metadata": {},
   "outputs": [],
   "source": [
    "lat_min = -75\n",
    "lat_max = -35\n",
    "lon_cen = -30\n",
    "z_max = -(ds_1y.Z.min().values)\n",
    "\n",
    "woa = xr.open_mfdataset(path_obs + \"WOA18/woa18_8594_[ts]1[3-6]_01.nc\", \n",
    "                        decode_times=False, combine='by_coords').squeeze()\n",
    "woa_s = woa.sel(lat=slice(lat_min, lat_max)).sel(lon=lon_cen, method='nearest')"
   ]
  },
  {
   "cell_type": "code",
   "execution_count": null,
   "id": "020d6060-b72d-428e-928e-81e3df57e1d6",
   "metadata": {},
   "outputs": [],
   "source": [
    "woa_s.mean(\"time\").sel(depth=slice(0, z_max)).t_an.to_netcdf(\"WOA18_t_an.nc\")\n",
    "woa_s.mean(\"time\").sel(depth=slice(0, z_max)).s_an.to_netcdf(\"WOA18_s_an.nc\")"
   ]
  },
  {
   "cell_type": "markdown",
   "id": "d1bf1437-fb3c-4ed8-8242-5ae07e9d7bd3",
   "metadata": {},
   "source": [
    "#### SLTAC\n",
    "The zonal velocities are averaged across 60 degrees West to 0 degrees West to compare better to the symmetric re-entrant channel configuration. Just a slice at 30 degrees West does not compare too well to the simulation due to local circulation features related to topography (which is not present in the simulation)."
   ]
  },
  {
   "cell_type": "code",
   "execution_count": null,
   "id": "91900068-7bb2-42e9-9088-a881def6e8fa",
   "metadata": {},
   "outputs": [],
   "source": [
    "sltac = xr.open_mfdataset(path_obs + \"SLTAC/\" \n",
    "                          + \"cmems_obs-sl_glo_phy-ssh_my_allsat-l4-duacs-0.25deg_P1D*_mean_uv.nc\")\n",
    "u_mean_sltac = sltac.ugos.mean(\"time\").sel(latitude=slice(-75, -35), longitude=slice(-60, 0)).mean(\"longitude\")"
   ]
  },
  {
   "cell_type": "code",
   "execution_count": null,
   "id": "08a07faa-0cb1-4f22-baa9-6a94895bf7f2",
   "metadata": {},
   "outputs": [],
   "source": [
    "u_mean_sltac.to_netcdf(\"SLTAC_ugos.nc\")"
   ]
  },
  {
   "cell_type": "markdown",
   "id": "63d8e9e6-fe59-4f6c-811f-85d2078139a9",
   "metadata": {},
   "source": [
    "#### NSIDC\n",
    "We select the same period as for WOA18 (1985-1994)"
   ]
  },
  {
   "cell_type": "code",
   "execution_count": null,
   "id": "17de0588-6d92-4eaf-8abb-a0149f4a9398",
   "metadata": {},
   "outputs": [],
   "source": [
    "siconc = xr.open_mfdataset(path_obs + \"NSIDC/seaice_conc_monthly_sh_197811_202205_v04r00.nc\")"
   ]
  },
  {
   "cell_type": "code",
   "execution_count": null,
   "id": "3ffcb86b-d8c3-480b-a806-52fa401d62d8",
   "metadata": {},
   "outputs": [],
   "source": [
    "SI_JJA = siconc.isel(tdim=slice((6 * 12) + 2, (16 * 12) + 2)).groupby(\"time.season\").mean(\"tdim\").sel(season=\"JJA\")\n",
    "conc_JJA = SI_JJA.cdr_seaice_conc_monthly.where(SI_JJA.cdr_seaice_conc_monthly<=1.0, other=np.nan)\n",
    "conc_JJA_030W = conc_JJA.where((SI_JJA.longitude<=-29) & (SI_JJA.longitude>=-31)).mean(\"x\")"
   ]
  },
  {
   "cell_type": "markdown",
   "id": "9338c87f-b273-4ffb-b904-b97b10f1ab2c",
   "metadata": {},
   "source": [
    "The NSIDC data is on a polar stereographic grid, so we inteprolate it to a latitude that is equivalent to the forcing used (75 - 35 deg. S) to make it easier to plot later on."
   ]
  },
  {
   "cell_type": "code",
   "execution_count": null,
   "id": "5e9986a2-5c59-4831-876f-c1292dd2fe9b",
   "metadata": {},
   "outputs": [],
   "source": [
    "interp_lat = np.linspace(lat_min, lat_max, 320)\n",
    "SI_JJA = siconc.groupby(\"time.season\").mean(\"tdim\").sel(season=\"JJA\")\n",
    "conc_JJA = SI_JJA.cdr_seaice_conc_monthly.where(SI_JJA.cdr_seaice_conc_monthly<=1.0, other=np.nan)\n",
    "conc_JJA_030W = conc_JJA.where((SI_JJA.longitude<=-29) & (SI_JJA.longitude>=-31)).mean(\"x\")\n",
    "lat_030W = siconc.latitude.where((SI_JJA.longitude<=-29) & (SI_JJA.longitude>=-31)).mean(\"x\")"
   ]
  },
  {
   "cell_type": "code",
   "execution_count": null,
   "id": "2fa8c39c-6c9c-4c4a-ac56-08a77be8eda6",
   "metadata": {},
   "outputs": [],
   "source": [
    "conc_interp = np.interp(interp_lat, lat_030W.values[::-1], conc_JJA_030W.values[::-1])"
   ]
  },
  {
   "cell_type": "code",
   "execution_count": null,
   "id": "513f7046-d2b6-473b-8553-217cf4100654",
   "metadata": {},
   "outputs": [],
   "source": [
    "NSICD_JJA = xr.DataArray(conc_interp, dims=(\"latitude\"), coords={\"latitude\": interp_lat})"
   ]
  },
  {
   "cell_type": "code",
   "execution_count": null,
   "id": "8c5130e7-1c6b-43cc-a8ea-5180ccab585a",
   "metadata": {},
   "outputs": [],
   "source": [
    "NSICD_JJA.rename(\"siconc\").to_netcdf(\"NSIDC_siconc_interp_lat.nc\")"
   ]
  },
  {
   "cell_type": "markdown",
   "id": "5f5392f5-f5dd-4462-9d89-535728afd622",
   "metadata": {},
   "source": [
    "#### Zonal wind from the forcing (based on ERA5)"
   ]
  },
  {
   "cell_type": "code",
   "execution_count": null,
   "id": "084c2505-8539-491b-a3f5-7337ca207a31",
   "metadata": {},
   "outputs": [],
   "source": [
    "forcing = xr.open_dataset(path + \"input/ESII_SO-RCSI100.L55_ctlv30_030W-era5-atmospheric_forcing.nc\")\n",
    "zonal_wind = forcing.zonal_wind.mean(\"time\").isel(x=0)"
   ]
  },
  {
   "cell_type": "code",
   "execution_count": null,
   "id": "120f86d7-bebf-43be-858a-02cc0764bffb",
   "metadata": {},
   "outputs": [],
   "source": [
    "zonal_wind.to_netcdf(\"ERA5_zonal_wind.nc\")"
   ]
  },
  {
   "cell_type": "markdown",
   "id": "970fdf0d-fe27-486b-9cb7-991e4a9ffe1a",
   "metadata": {},
   "source": [
    "### Figure 3\n",
    "For figure 3 we need to compute some statistics from all the eddies that were detected."
   ]
  },
  {
   "cell_type": "code",
   "execution_count": null,
   "id": "3d10db46-4ea6-48ec-8995-ca67b788a57a",
   "metadata": {},
   "outputs": [],
   "source": [
    "with open(path\n",
    "          + 'tracking/tracks_02010101_03001230.pickle', 'rb') as f:\n",
    "    tracks = pickle.load(f)\n",
    "f.close()"
   ]
  },
  {
   "cell_type": "markdown",
   "id": "145ec47c-d11f-45fc-8f7f-6e823b0e7798",
   "metadata": {},
   "source": [
    "For the statistics, we use the mean locations, amplitudes and diameters from each track. And we also extract the mean sea ice concentration above each eddy to differentiate between eddies in the open ocean and under sea ice."
   ]
  },
  {
   "cell_type": "code",
   "execution_count": null,
   "id": "c8684e8f-ace9-4ace-b5f6-7319bbe722d1",
   "metadata": {},
   "outputs": [],
   "source": [
    "number = len(tracks)\n",
    "all_tracks = xr.Dataset({\"number\": ([\"number\"], np.arange(0, number)),\n",
    "                         \"type\": ([\"number\"], np.stack([tracks[i][\"type\"] \n",
    "                                                        for i in np.arange(number)])),\n",
    "                         \"time\": ([\"number\"], np.stack([tracks[i][\"time\"][0] \n",
    "                                                        + ((tracks[i][\"time\"][-1] - tracks[i][\"time\"][0]) / 2) \n",
    "                                                        for i in np.arange(number)])),\n",
    "                         \"lifetime\": ([\"number\"], np.stack([(tracks[i][\"time\"][-1] \n",
    "                                                             - tracks[i][\"time\"][0]).days \n",
    "                                                            for i in np.arange(number)])),\n",
    "                         \"lon\": ([\"number\"], np.hstack([np.mean(tracks[i][\"lon\"]) \n",
    "                                                        for i in np.arange(number)])),\n",
    "                         \"lat\": ([\"number\"], np.hstack([np.mean(tracks[i][\"lat\"]) \n",
    "                                                        for i in np.arange(number)])),\n",
    "                         \"i\": ([\"number\"], np.hstack([int(np.mean([np.median(tracks[i][\"eddy_i\"][j]) \n",
    "                                                      for j in np.arange(len(tracks[i][\"eddy_i\"]))]))  \n",
    "                                                      for i in np.arange(number)])),\n",
    "                         \"j\": ([\"number\"], np.hstack([int(np.mean([np.median(tracks[i][\"eddy_j\"][j]) \n",
    "                                                      for j in np.arange(len(tracks[i][\"eddy_j\"]))]))  \n",
    "                                                      for i in np.arange(number)])),\n",
    "                         \"scale\": ([\"number\"], np.hstack([np.mean(tracks[i][\"scale\"]) \n",
    "                                                          for i in np.arange(number)])),\n",
    "                         \"amp\": ([\"number\"], np.hstack([np.mean(tracks[i][\"amp\"]) \n",
    "                                                        for i in np.arange(number)]))\n",
    "                        })\n",
    "\n",
    "all_tracks[\"SIarea\"] = ds_5d.SIarea.isel(XC=all_tracks.i, \n",
    "                                         YC=all_tracks.j).sel(time=all_tracks.time, \n",
    "                                                              method=\"nearest\").drop([\"XC\", \"YC\", \"time\"])\n",
    "\n",
    "all_tracks.to_netcdf(\"all_tracks_02010101_03001230.nc\")"
   ]
  },
  {
   "cell_type": "markdown",
   "id": "632a06b3-572c-4c59-9c81-33b505f8c0aa",
   "metadata": {},
   "source": [
    "Now we compute the distribution of diameter and amplitude for the tracks, separating by type (anticyclonic vs. cyclonic) and sea ice cover (open ocean vs. under ice)"
   ]
  },
  {
   "cell_type": "code",
   "execution_count": null,
   "id": "0036c97c-cea7-439d-b2f4-f506ba404e61",
   "metadata": {},
   "outputs": [],
   "source": [
    "cycl = all_tracks.where(all_tracks.type == 'cyclonic')\n",
    "anti = all_tracks.where(all_tracks.type == 'anticyclonic')\n",
    "cycl_oo = cycl.where(cycl.SIarea < 0.15).dropna(\"number\")\n",
    "anti_oo = anti.where(anti.SIarea < 0.15).dropna(\"number\")\n",
    "cycl_ice = cycl.where(cycl.SIarea > 0.8).dropna(\"number\")\n",
    "anti_ice = anti.where(anti.SIarea > 0.8).dropna(\"number\")"
   ]
  },
  {
   "cell_type": "code",
   "execution_count": null,
   "id": "a7d86980-a74d-4fcf-8d89-0cffb5e92caf",
   "metadata": {},
   "outputs": [],
   "source": [
    "scale_bins = np.linspace(0, 150, 51)\n",
    "scale_labels = (scale_bins[0:-1] + scale_bins[1::]) / 2\n",
    "scales = xr.Dataset(coords={\"scale\": scale_labels})\n",
    "\n",
    "scales[\"scale_cyc_oo\"] = cycl_oo.groupby_bins(\"scale\", bins=scale_bins, \n",
    "                                              labels=scale_labels).count().scale.rename({\"scale_bins\": \"scale\"})\n",
    "scales[\"scale_anti_oo\"] = anti_oo.groupby_bins(\"scale\", bins=scale_bins, \n",
    "                                               labels=scale_labels).count().scale.rename({\"scale_bins\": \"scale\"})\n",
    "\n",
    "scales[\"scale_cyc_ice\"] = cycl_ice.groupby_bins(\"scale\", bins=scale_bins, \n",
    "                                                labels=scale_labels).count().scale.rename({\"scale_bins\": \"scale\"})\n",
    "scales[\"scale_anti_ice\"] = anti_ice.groupby_bins(\"scale\", bins=scale_bins, \n",
    "                                                 labels=scale_labels).count().scale.rename({\"scale_bins\": \"scale\"})"
   ]
  },
  {
   "cell_type": "code",
   "execution_count": null,
   "id": "eaad8b84-f0f1-475b-bd07-f8cc4b9d6fbf",
   "metadata": {},
   "outputs": [],
   "source": [
    "scales.to_netcdf(\"eddy_scale_distribution.nc\")"
   ]
  },
  {
   "cell_type": "code",
   "execution_count": null,
   "id": "1a0650d9-925c-463d-b6c4-47aebabb1885",
   "metadata": {},
   "outputs": [],
   "source": [
    "amp_bins = np.linspace(0, 5.5e-5, 51)\n",
    "amp_labels = (amp_bins[0:-1] + amp_bins[1::]) / 2\n",
    "amps = xr.Dataset(coords={\"amp\": amp_labels})\n",
    "\n",
    "amps[\"amp_cyc_oo\"] = cycl_oo.groupby_bins(\"amp\", bins=amp_bins, \n",
    "                                              labels=amp_labels).count().amp.rename({\"amp_bins\": \"amp\"})\n",
    "amps[\"amp_anti_oo\"] = anti_oo.groupby_bins(\"amp\", bins=amp_bins, \n",
    "                                               labels=amp_labels).count().amp.rename({\"amp_bins\": \"amp\"})\n",
    "\n",
    "amps[\"amp_cyc_ice\"] = cycl_ice.groupby_bins(\"amp\", bins=amp_bins, \n",
    "                                                labels=amp_labels).count().amp.rename({\"amp_bins\": \"amp\"})\n",
    "amps[\"amp_anti_ice\"] = anti_ice.groupby_bins(\"amp\", bins=amp_bins, \n",
    "                                                 labels=amp_labels).count().amp.rename({\"amp_bins\": \"amp\"})"
   ]
  },
  {
   "cell_type": "code",
   "execution_count": null,
   "id": "845303f1-6681-4978-a304-4206d62846c9",
   "metadata": {},
   "outputs": [],
   "source": [
    "amps.to_netcdf(\"eddy_amp_distribution.nc\")"
   ]
  },
  {
   "cell_type": "markdown",
   "id": "1627ade8-fb2f-4bb1-bc96-24438e464eef",
   "metadata": {},
   "source": [
    "And we reference each track to (0, 0) to plot all tracks and average the tracks."
   ]
  },
  {
   "cell_type": "code",
   "execution_count": null,
   "id": "9d565be2-da1a-4a0d-a543-34de169d08fa",
   "metadata": {},
   "outputs": [],
   "source": [
    "a_oo_tralo = np.zeros((len(tracks), 90)) + np.nan\n",
    "a_oo_trala = np.zeros((len(tracks), 90)) + np.nan\n",
    "c_oo_tralo = np.zeros((len(tracks), 90)) + np.nan\n",
    "c_oo_trala = np.zeros((len(tracks), 90)) + np.nan\n",
    "a_ice_tralo = np.zeros((len(tracks), 90)) + np.nan\n",
    "a_ice_trala = np.zeros((len(tracks), 90)) + np.nan\n",
    "c_ice_tralo = np.zeros((len(tracks), 90)) + np.nan\n",
    "c_ice_trala = np.zeros((len(tracks), 90)) + np.nan\n",
    "a_oo = 0\n",
    "c_oo = 0\n",
    "a_ice = 0\n",
    "c_ice = 0\n",
    "for tt in np.arange(0, len(tracks)):\n",
    "    lonn_start = tracks[tt]['lon'][0]\n",
    "    latt_start = tracks[tt]['lat'][0]\n",
    "    tttt_start = tracks[tt]['time'][0]\n",
    "    lonn_end = tracks[tt]['lon'][-1]\n",
    "    latt_end = tracks[tt]['lat'][-1]\n",
    "    tttt_end = tracks[tt]['time'][-1]\n",
    "    ice_start = ds_5d.SIarea.sel(XC=lonn_start, \n",
    "                                 method='nearest').sel(YC=latt_start, \n",
    "                                                       method='nearest').sel(time=tttt_start).values\n",
    "    ice_end = ds_5d.SIarea.sel(XC=lonn_end, \n",
    "                               method='nearest').sel(YC=latt_end, \n",
    "                                                     method='nearest').sel(time=tttt_end).values\n",
    "    if ((ice_start < 0.15) & (ice_end < 0.15)):\n",
    "        if ((tracks[tt]['type'] == 'anticyclonic') & (len(tracks[tt]['time']) > 1)):\n",
    "            a_oo_tralo[tt, 0:len(tracks[tt]['time'])] = tracks[tt]['lon'] - tracks[tt]['lon'][0]\n",
    "            a_oo_trala[tt, 0:len(tracks[tt]['time'])] = tracks[tt]['lat'] - tracks[tt]['lat'][0]\n",
    "            a_oo += 1\n",
    "        elif ((tracks[tt]['type'] == 'cyclonic') & (len(tracks[tt]['time']) > 1)):\n",
    "            c_oo_tralo[tt, 0:len(tracks[tt]['time'])] = tracks[tt]['lon'] - tracks[tt]['lon'][0]\n",
    "            c_oo_trala[tt, 0:len(tracks[tt]['time'])] = tracks[tt]['lat'] - tracks[tt]['lat'][0]\n",
    "            c_oo += 1\n",
    "    elif ((ice_start > 0.8) & (ice_end > 0.8)):\n",
    "        if ((tracks[tt]['type'] == 'anticyclonic') & (len(tracks[tt]['time']) > 1)):\n",
    "            a_ice_tralo[tt, 0:len(tracks[tt]['time'])] = tracks[tt]['lon'] - tracks[tt]['lon'][0]\n",
    "            a_ice_trala[tt, 0:len(tracks[tt]['time'])] = tracks[tt]['lat'] - tracks[tt]['lat'][0]\n",
    "            a_ice += 1\n",
    "        elif ((tracks[tt]['type'] == 'cyclonic') & (len(tracks[tt]['time']) > 1)):\n",
    "            c_ice_tralo[tt, 0:len(tracks[tt]['time'])] = tracks[tt]['lon'] - tracks[tt]['lon'][0]\n",
    "            c_ice_trala[tt, 0:len(tracks[tt]['time'])] = tracks[tt]['lat'] - tracks[tt]['lat'][0]\n",
    "            c_ice += 1"
   ]
  },
  {
   "cell_type": "code",
   "execution_count": null,
   "id": "74973579-014b-4669-8dc5-e088468c680e",
   "metadata": {},
   "outputs": [],
   "source": [
    "tracks_referenced = xr.Dataset(coords={\"time\": np.arange(0, 90), \"track\": np.arange(0, len(tracks))})\n",
    "tracks_referenced[\"a_oo_tralo\"] = ([\"track\", \"time\"], a_oo_tralo)\n",
    "tracks_referenced[\"a_oo_trala\"] = ([\"track\", \"time\"], a_oo_trala)\n",
    "tracks_referenced[\"c_oo_tralo\"] = ([\"track\", \"time\"], c_oo_tralo)\n",
    "tracks_referenced[\"c_oo_trala\"] = ([\"track\", \"time\"], c_oo_trala)\n",
    "tracks_referenced[\"a_ice_tralo\"] = ([\"track\", \"time\"], a_ice_tralo)\n",
    "tracks_referenced[\"a_ice_trala\"] = ([\"track\", \"time\"], a_ice_trala)\n",
    "tracks_referenced[\"c_ice_tralo\"] = ([\"track\", \"time\"], c_ice_tralo)\n",
    "tracks_referenced[\"c_ice_trala\"] = ([\"track\", \"time\"], c_ice_trala)\n",
    "tracks_referenced[\"a_oo_number\"] = a_oo\n",
    "tracks_referenced[\"c_oo_number\"] = c_oo\n",
    "tracks_referenced[\"a_ice_number\"] = a_ice\n",
    "tracks_referenced[\"c_ice_number\"] = c_ice"
   ]
  },
  {
   "cell_type": "code",
   "execution_count": null,
   "id": "7d6267ba-67b7-4c48-bc5d-ea9e380c0687",
   "metadata": {},
   "outputs": [],
   "source": [
    "tracks_referenced.to_netcdf(\"tracks_referenced_to_00.nc\")"
   ]
  },
  {
   "cell_type": "markdown",
   "id": "481241ee-efb9-4a3c-8b01-a201a3b77756",
   "metadata": {},
   "source": [
    "### Figure 4\n",
    "Here we need the zonally integrated, depth-integrated average heat transports."
   ]
  },
  {
   "cell_type": "code",
   "execution_count": null,
   "id": "4b7a7976-5f17-4447-be7e-1b9ba90993ba",
   "metadata": {},
   "outputs": [],
   "source": [
    "Ms = xr.open_mfdataset(path + 'post/MHTs.0201-0300.nc')"
   ]
  },
  {
   "cell_type": "markdown",
   "id": "dc711cb7-5ca1-47ce-86d7-30727cace9f7",
   "metadata": {},
   "source": [
    "We need dz for the vertical integration (`hFacS * drF`). (The zonal integration has already been done during the calculations.)"
   ]
  },
  {
   "cell_type": "code",
   "execution_count": null,
   "id": "950a0568-f475-499c-9ea8-692ff5522854",
   "metadata": {},
   "outputs": [],
   "source": [
    "hfac = ds_meanX.hFacS.values\n",
    "dz = ds_1y.drF.values"
   ]
  },
  {
   "cell_type": "markdown",
   "id": "f5314d00-2166-49c5-bf08-61cea5892d7c",
   "metadata": {},
   "source": [
    "Zonal integral of net heat flux into the ocean"
   ]
  },
  {
   "cell_type": "code",
   "execution_count": null,
   "id": "de405be1-b126-4125-ae4e-3219564df53e",
   "metadata": {},
   "outputs": [],
   "source": [
    "oq = (ds_1y.sel(time=slice(t1_mean, t2_mean)).oceQnet * ds_1y.dxF).sum(\"XC\")"
   ]
  },
  {
   "cell_type": "markdown",
   "id": "594be441-3b95-42b3-ad06-9c80ade04c05",
   "metadata": {},
   "source": [
    "We multiply everything by `1e-12` to convert values to TW."
   ]
  },
  {
   "cell_type": "code",
   "execution_count": null,
   "id": "d1362236-da88-42f3-b567-41ce89051f79",
   "metadata": {},
   "outputs": [],
   "source": [
    "mean_HT = xr.Dataset(coords={\"YC\": ds_1y.YC, \"YG\": ds_1y.YG})\n",
    "mean_HT[\"MHT\"] = ((Ms.MHT * dz[:, None] * hfac).sum(\"Z\") * 1e-12).mean(\"time\")\n",
    "mean_HT[\"MHTstd\"] = ((Ms.MHT * dz[:, None] * hfac).sum(\"Z\") * 1e-12).std(\"time\")\n",
    "mean_HT[\"MHTek\"] = (Ms.MHTek * 1e-12).mean(\"time\")\n",
    "mean_HT[\"THT\"] = ((Ms.THT * dz[:, None] * hfac).sum(\"Z\") * 1e-12).mean(\"time\")\n",
    "mean_HT[\"THTstd\"] = ((Ms.THT * dz[:, None] * hfac).sum(\"Z\") * 1e-12).std(\"time\")\n",
    "mean_HT[\"totalHT\"] = (((Ms.MHT + Ms.THT) * dz[:, None] * hfac).sum(\"Z\") * 1e-12).mean(\"time\")\n",
    "mean_HT[\"totalHTstd\"] = (((Ms.MHT + Ms.THT) * dz[:, None] * hfac).sum(\"Z\") * 1e-12).std(\"time\")\n",
    "mean_HT[\"OQ\"] = (oq.mean(\"time\") * ds_1y.dyF.mean(\"XC\")).cumsum(\"YC\") * 1e-12"
   ]
  },
  {
   "cell_type": "code",
   "execution_count": null,
   "id": "b2b6faf0-70d6-43c5-92ae-146208c519e7",
   "metadata": {},
   "outputs": [],
   "source": [
    "mean_HT.to_netcdf(\"mean_heat_transports_0201-01-01_0300-12-30_zonal_vertical_integral.nc\")"
   ]
  },
  {
   "cell_type": "markdown",
   "id": "2cd70383-fe23-47e8-9403-676d5a849052",
   "metadata": {},
   "source": [
    "### Figure 5\n",
    "\n",
    "Same as for Figure 4 but with the different components of transient HT."
   ]
  },
  {
   "cell_type": "code",
   "execution_count": null,
   "id": "359c2c25-9328-451f-b8de-c8ecb4d1e773",
   "metadata": {},
   "outputs": [],
   "source": [
    "Ts = xr.open_mfdataset(path + 'post/THTs.0201-0300.nc').drop(\"z\")"
   ]
  },
  {
   "cell_type": "code",
   "execution_count": null,
   "id": "57b6137b-3098-473a-b8ce-1b84ef891c96",
   "metadata": {},
   "outputs": [],
   "source": [
    "HTtrap = xr.open_mfdataset(path + \"/post/THTobs.0201-0300.nc\", \n",
    "                           concat_dim=\"time\", combine=\"nested\", data_vars='minimal', \n",
    "                           coords='minimal', compat='override').rename({\"lat\": \"YG\", \"z\": \"Z\"})"
   ]
  },
  {
   "cell_type": "code",
   "execution_count": null,
   "id": "fd7c877d-8684-4ac4-b714-3f19ee87505a",
   "metadata": {},
   "outputs": [],
   "source": [
    "transient_HT = xr.Dataset(coords={\"YG\": ds_1y.YG})\n",
    "transient_HT[\"THT\"] = ((Ts.THT * dz[:, None] * hfac).sum(\"Z\") * 1e-12).mean(\"time\")\n",
    "transient_HT[\"THTdiv\"] = ((Ts.THTdiv * dz[:, None] * hfac).sum(\"Z\") * 1e-12).mean(\"time\")\n",
    "transient_HT[\"THTdivstd\"] = ((Ts.THTdiv * dz[:, None] * hfac).sum(\"Z\") * 1e-12).std(\"time\")\n",
    "transient_HT[\"THTref\"] = ((Ts.THTref * dz[None, None, :] * hfac.T[None, :, :]).sum(\"Z\") * 1e-12).mean(\"time\")\n",
    "transient_HT[\"THTrefstd\"] = ((Ts.THTref * dz[None, None, :] * hfac.T[None, :, :]).sum(\"Z\") * 1e-12).std(\"time\")\n",
    "transient_HT[\"THTeddy\"] = ((Ts.THTeddy * dz[:, None] * hfac).sum(\"Z\") * 1e-12).mean(\"time\")\n",
    "transient_HT[\"THTeddystd\"] = ((Ts.THTeddy * dz[:, None] * hfac).sum(\"Z\") * 1e-12).std(\"time\")\n",
    "transient_HT[\"THTdiveddy\"] = ((Ts.THTdiveddy * dz[:, None] * hfac).sum(\"Z\") * 1e-12).mean(\"time\")\n",
    "transient_HT[\"THTdiveddystd\"] = ((Ts.THTdiveddy * dz[:, None] * hfac).sum(\"Z\") * 1e-12).std(\"time\")\n",
    "transient_HT[\"THTrefeddy\"] = ((Ts.THTrefeddy * dz[None, None, :] * hfac.T[None, :, :]).sum(\"Z\") * 1e-12).mean(\"time\")\n",
    "transient_HT[\"THTrefeddystd\"] = ((Ts.THTrefeddy * dz[None, None, :] * hfac.T[None, :, :]).sum(\"Z\") * 1e-12).std(\"time\")\n",
    "transient_HT[\"THTtrack\"] = ((Ts.THTtrack * dz[:, None] * hfac).sum(\"Z\") * 1e-12).mean(\"time\")\n",
    "transient_HT[\"THTtrackstd\"] = ((Ts.THTtrack * dz[:, None] * hfac).sum(\"Z\") * 1e-12).std(\"time\")\n",
    "transient_HT[\"THTdivtrack\"] = ((Ts.THTdivtrack * dz[:, None] * hfac).sum(\"Z\") * 1e-12).mean(\"time\")\n",
    "transient_HT[\"THTdivtrackstd\"] = ((Ts.THTdivtrack * dz[:, None] * hfac).sum(\"Z\") * 1e-12).std(\"time\")\n",
    "transient_HT[\"THTtrap\"] = ((HTtrap[\"THTobs\"] * dz * hfac.T).sum(\"Z\") * 1e-12).mean(\"time\")\n",
    "transient_HT[\"THTtrapstd\"] = ((HTtrap[\"THTobs\"] * dz * hfac.T).sum(\"Z\") * 1e-12).std(\"time\")"
   ]
  },
  {
   "cell_type": "code",
   "execution_count": null,
   "id": "576174cf-2ff7-47a3-b774-3d9a119f65b9",
   "metadata": {},
   "outputs": [],
   "source": [
    "transient_HT.to_netcdf(\"transient_heat_transports_0201-01-01_0300-12-30_zonal_vertical_integral.nc\")"
   ]
  },
  {
   "cell_type": "markdown",
   "id": "6e0ddbab-1f3c-49c9-b56e-04187f0e2a2c",
   "metadata": {},
   "source": [
    "### Figure 6\n",
    "Again, similar to the preparation for Figures 4 and 5 but for winter (JJA) values below the mixed layer and also isopycnal HT."
   ]
  },
  {
   "cell_type": "code",
   "execution_count": null,
   "id": "5dd77bb0-de4c-4869-9a45-c37cfcd88b91",
   "metadata": {},
   "outputs": [],
   "source": [
    "Ts_NoML = xr.open_mfdataset(path + 'post/THTsNoMLJJA.0201-0300.nc').drop(\"z\")\n",
    "iso_NoML = xr.open_mfdataset(path + \"post/HTisoNoMLjja_eddy.0201-0300.nc\").drop(\"z\")"
   ]
  },
  {
   "cell_type": "code",
   "execution_count": null,
   "id": "38e17dec-35f7-45db-95c6-cf0f65e06315",
   "metadata": {},
   "outputs": [],
   "source": [
    "transient_HT_NoML = xr.Dataset(coords={\"YG\": ds_1y.YG})\n",
    "transient_HT_NoML[\"THT\"] = ((Ts_NoML.THT * dz[:, None] * hfac).sum(\"Z\") * 1e-12).mean(\"time\")\n",
    "transient_HT_NoML[\"THTdiv\"] = ((Ts_NoML.THTdiv * dz[:, None] * hfac).sum(\"Z\") * 1e-12).mean(\"time\")\n",
    "transient_HT_NoML[\"THTdivstd\"] = ((Ts_NoML.THTdiv * dz[:, None] * hfac).sum(\"Z\") * 1e-12).std(\"time\")\n",
    "transient_HT_NoML[\"THTeddy\"] = ((Ts_NoML.THTeddy * dz[:, None] * hfac).sum(\"Z\") * 1e-12).mean(\"time\")\n",
    "transient_HT_NoML[\"THTeddystd\"] = ((Ts_NoML.THTeddy * dz[:, None] * hfac).sum(\"Z\") * 1e-12).std(\"time\")\n",
    "transient_HT_NoML[\"THTdiveddy\"] = ((Ts_NoML.THTdiveddy * dz[:, None] * hfac).sum(\"Z\") * 1e-12).mean(\"time\")\n",
    "transient_HT_NoML[\"THTdiveddystd\"] = ((Ts_NoML.THTdiveddy * dz[:, None] * hfac).sum(\"Z\") * 1e-12).std(\"time\")"
   ]
  },
  {
   "cell_type": "code",
   "execution_count": null,
   "id": "21ec7695-5e1e-40ae-9b10-74477e2a5cd2",
   "metadata": {},
   "outputs": [],
   "source": [
    "isopycnal_HT_NoML = xr.Dataset(coords={\"YG\": ds_1y.YG})\n",
    "isopycnal_HT_NoML[\"iso_total\"] = ((iso_NoML.ADViso + iso_NoML.DIFFiso).sum(\"layer_center\") * 1e-12).mean(\"time\")\n",
    "isopycnal_HT_NoML[\"iso_totalstd\"] = ((iso_NoML.ADViso + iso_NoML.DIFFiso).sum(\"layer_center\") * 1e-12).std(\"time\")\n",
    "isopycnal_HT_NoML[\"iso_totaleddy\"] = ((iso_NoML.ADViso_eddyV \n",
    "                                      + iso_NoML.DIFFiso_eddy_opt4).sum(\"layer_center\") * 1e-12).mean(\"time\")\n",
    "isopycnal_HT_NoML[\"iso_totaleddystd\"] = ((iso_NoML.ADViso_eddyV \n",
    "                                         + iso_NoML.DIFFiso_eddy_opt4).sum(\"layer_center\") * 1e-12).std(\"time\")"
   ]
  },
  {
   "cell_type": "code",
   "execution_count": null,
   "id": "55998b07-b7c7-4d4e-8573-8464f69bfdd4",
   "metadata": {},
   "outputs": [],
   "source": [
    "transient_HT_NoML.to_netcdf(\"transient_heat_transports_0201-01-01_0300-12-30_NoML_zonal_vertical_integral.nc\")\n",
    "isopycnal_HT_NoML.to_netcdf(\"isopycnal_heat_transports_0201-01-01_0300-12-30_NoML_zonal_vertical_integral.nc\")"
   ]
  },
  {
   "cell_type": "markdown",
   "id": "e43adb7f-fc0e-474d-a623-016c3847790e",
   "metadata": {},
   "source": [
    "### Figure 7\n",
    "\n",
    "We need mean winter mixed layer depth `MXLDEPTH` and temperature `THETA` as well as $\\sigma_{2}$ on the v-grid"
   ]
  },
  {
   "cell_type": "code",
   "execution_count": null,
   "id": "d9d1705a-2bed-4ca4-a4f9-aa629deb5e9f",
   "metadata": {},
   "outputs": [],
   "source": [
    "metricsJJA = {\n",
    "    ('Y'): ['dyC', 'dyG', 'dyF', 'dyU'], # Y distances\n",
    "    ('Z'): ['drF', 'drW', 'drS', 'drC'], # Z distances\n",
    "    }\n",
    "gridJJA = xgcm.Grid(ds_JJA, periodic=False, metrics=metricsJJA)"
   ]
  },
  {
   "cell_type": "code",
   "execution_count": null,
   "id": "d6a103d8-9f2f-4df5-b877-76c173eda0a0",
   "metadata": {},
   "outputs": [],
   "source": [
    "MLDonV = gridJJA.interp(ds_JJA.MXLDEPTH.where(ds_JJA.MXLDEPTH!=0), \"Y\", boundary=\"extend\")\n",
    "THETAonV = gridJJA.interp(ds_JJA.THETA.where(ds_JJA.THETA!=0), \"Y\", boundary=\"extend\")"
   ]
  },
  {
   "cell_type": "code",
   "execution_count": null,
   "id": "5bf85455-1b41-46e6-979d-803a595e21c3",
   "metadata": {},
   "outputs": [],
   "source": [
    "MLDonV.where(MLDonV, other=0).rename(\"MXLDEPTH\").to_netcdf(\"MXLDEPTH_0201-01-01_0300-12-30_JJA_zonal_mean.nc\")\n",
    "THETAonV.where(THETAonV, other=0).rename(\"THETA\").to_netcdf(\"THETA_0201-01-01_0300-12-30_JJA_zonal_mean.nc\")"
   ]
  },
  {
   "cell_type": "code",
   "execution_count": null,
   "id": "a87e26e8-c939-4a01-a05d-5e1fe5eaedfd",
   "metadata": {},
   "outputs": [],
   "source": [
    "ds_JJA[\"SIG2\"] = ds_5d.SIG2.groupby(\"time.season\").mean(\"time\").sel(season=\"JJA\").mean((\"XC\"))\n",
    "ds_JJA[\"SIG2\"] = ds_JJA.SIG2.where(ds_JJA.SIG2 > 1010.)\n",
    "SIG2onV = gridJJA.interp(ds_JJA.SIG2.where(ds_JJA.SIG2!=0), \"Y\", boundary=\"extend\")\n",
    "SIG2onV.where(SIG2onV, other=0).rename(\"SIG2\").to_netcdf(\"SIG2_0201-01-01_0300-12-30_JJA_zonal_mean.nc\")"
   ]
  },
  {
   "cell_type": "markdown",
   "id": "2a844f9d-b9dc-477b-97ab-e5c53046ef1a",
   "metadata": {},
   "source": [
    "as well as the mean THETA on isopycnals"
   ]
  },
  {
   "cell_type": "code",
   "execution_count": null,
   "id": "842b4023-c76c-4fb3-9886-a30b3c5012c8",
   "metadata": {},
   "outputs": [],
   "source": [
    "target_rho_levelsC = np.hstack(([5., 15., 22.5, 27.5, 30.5, 31.5], \n",
    "                                np.arange(32.05, 35., 0.1),\n",
    "                                np.arange(35.025, 36., 0.05),\n",
    "                                np.arange(36.01, 36.9, 0.02),\n",
    "                                np.arange(36.905, 37.2, 0.01),\n",
    "                                np.arange(37.21, 37.6, 0.02),\n",
    "                                np.arange(37.605, 37.8, 0.01),\n",
    "                                np.arange(37.825, 37.9, 0.05),\n",
    "                                [37.95, 38.05, 38.2, 38.4, 38.75, 39.5, 42.5, 47.5, 75.]))"
   ]
  },
  {
   "cell_type": "code",
   "execution_count": null,
   "id": "f6a326a3-f79c-449a-acce-b1d0a3507050",
   "metadata": {},
   "outputs": [],
   "source": [
    "def z2rho(grid, var, target_levels, target_data, target_name, method):\n",
    "    var_rho = grid.transform(var, \"Z\", target_levels, target_data=target_data, method=method)\n",
    "    var_rho = var_rho.rename({target_name: \"layer_center\"})\n",
    "    return var_rho"
   ]
  },
  {
   "cell_type": "code",
   "execution_count": null,
   "id": "53c13918-5211-4c39-ae61-2f7f2c809a88",
   "metadata": {},
   "outputs": [],
   "source": [
    "metrics = {\n",
    "       ('X'): ['dxC', 'dxG', 'dxF', 'dxV'], # X distances\n",
    "       ('Y'): ['dyC', 'dyG', 'dyF', 'dyU'], # Y distances\n",
    "       ('Z'): ['drF', 'drW', 'drS', 'drC'], # Z distances\n",
    "       }\n",
    "grid = xgcm.Grid(ds_5d, periodic=[\"X\"], metrics=metrics)"
   ]
  },
  {
   "cell_type": "code",
   "execution_count": null,
   "id": "80756e6a-2295-4901-9859-35548a79c30d",
   "metadata": {},
   "outputs": [],
   "source": [
    "t_rho = z2rho(grid, ds_5d.THETA, target_rho_levelsC, ds_5d.SIG2 - 1000., \n",
    "              \"SIG2\", \"linear\").chunk({\"time\": 1, \"XC\": 240, \"YC\": 320})"
   ]
  },
  {
   "cell_type": "code",
   "execution_count": null,
   "id": "d39aa91e-f5c4-4252-8e4b-191197a9d1e0",
   "metadata": {},
   "outputs": [],
   "source": [
    "t_rhoonV = t_rho.groupby(\"time.season\").mean(\"time\").sel(season=\"JJA\").mean((\"XC\"))\n",
    "t_rhoonVJJA  = grid.interp(t_rhoonV.where(t_rhoonV!=0), \"Y\", boundary=\"extend\").chunk({\"YG\": 320}).rename(\"t_rho\")"
   ]
  },
  {
   "cell_type": "code",
   "execution_count": null,
   "id": "11384c40-797c-40ef-b937-c997018fe821",
   "metadata": {},
   "outputs": [],
   "source": [
    "t_rhoonVJJA.to_netcdf(\"T_on_isopycnals_0201-01-01_0300-12-30_JJA_zonal_mean.nc\")"
   ]
  },
  {
   "cell_type": "markdown",
   "id": "60376d53-90da-4a6a-ae18-c62b58c423fc",
   "metadata": {},
   "source": [
    "We also need the winter heat transports below the mixed layer"
   ]
  },
  {
   "cell_type": "code",
   "execution_count": null,
   "id": "5837e218-0232-439e-89b7-082f0a7bbcf8",
   "metadata": {},
   "outputs": [],
   "source": [
    "Ms_JJA_NoML = xr.open_mfdataset(path + \"post/MHTsNoML.JJA.0201-0300.nc\")\n",
    "Ts_JJA_NoML = xr.open_mfdataset(path + \"post/THTsNoMLJJA.JJA.0201-0300.nc\").drop(\"z\")\n",
    "iso_JJA_NoML = xr.open_mfdataset(path + \"post/HTisoNoMLjja_eddy.JJA.0201-0300.nc\").drop(\"z\")"
   ]
  },
  {
   "cell_type": "code",
   "execution_count": null,
   "id": "7ec2ea6a-1bfd-4f97-aa33-2d7fd0173544",
   "metadata": {},
   "outputs": [],
   "source": [
    "mean_HT_JJA_NoML = xr.Dataset(coords={\"YG\": ds_1y.YG, \"Z\": ds_1y.Z})\n",
    "mean_HT_JJA_NoML[\"MHT\"] = (Ms_JJA_NoML.MHT * hfac * 1e-12).mean(\"time\")"
   ]
  },
  {
   "cell_type": "code",
   "execution_count": null,
   "id": "ad119057-8d12-4687-b392-6ccf6c445d7f",
   "metadata": {},
   "outputs": [],
   "source": [
    "transient_HT_JJA_NoML = xr.Dataset(coords={\"YG\": ds_1y.YG, \"Z\": ds_1y.Z})\n",
    "transient_HT_JJA_NoML[\"THTdiv\"] = (Ts_JJA_NoML.THTdiv * hfac * 1e-12).mean(\"time\")\n",
    "transient_HT_JJA_NoML[\"THTdiveddy\"] = (Ts_JJA_NoML.THTdiveddy * hfac * 1e-12).mean(\"time\")"
   ]
  },
  {
   "cell_type": "markdown",
   "id": "27841041-ae99-44ba-8c7d-0017ef2a5fc5",
   "metadata": {},
   "source": [
    "For the isopycnal heat transports, we also need those remapped to z-levels:"
   ]
  },
  {
   "cell_type": "code",
   "execution_count": null,
   "id": "8cf21b4d-81ef-4548-b938-a1de1b81e086",
   "metadata": {},
   "outputs": [],
   "source": [
    "layer_bounds = np.hstack(([0., 10., 20., 25., 30., 31.], \n",
    "                           np.arange(32., 35., 0.1),\n",
    "                           np.arange(35., 36., 0.05),\n",
    "                           np.arange(36., 36.9, 0.02),\n",
    "                           np.arange(36.9, 37.199, 0.01),\n",
    "                           np.arange(37.2, 37.6, 0.02),\n",
    "                           np.arange(37.6, 37.8, 0.01),\n",
    "                           np.arange(37.8, 37.899, 0.05),\n",
    "                           [37.9, 38., 38.1, 38.3, 38.5, 39., 40., 45., 50., 100.]))"
   ]
  },
  {
   "cell_type": "code",
   "execution_count": null,
   "id": "40c02ef2-ae59-454b-a101-96e3ee70d8f4",
   "metadata": {},
   "outputs": [],
   "source": [
    "iso_JJA_NoML[\"layer_depths\"] = xr.DataArray(-iso_JJA_NoML.levThick.mean(\"time\").sortby(\"layer_center\", \n",
    "                                                                     ascending=True).cumsum(dim=\"layer_center\").values, \n",
    "                                       dims=(\"YG\", \"layer_center\"))\n",
    "iso_JJA_NoML[\"levThickmean\"] = xr.DataArray(iso_JJA_NoML.levThick.mean(\"time\").values, dims=(\"YG\", \"layer_center\"))\n",
    "metrics_tmp = {\n",
    "    ('Z'): ['levThickmean'], # Z distances\n",
    "    }\n",
    "iso_JJA_NoML[\"layer_center\"].attrs[\"axis\"] = \"Z\"\n",
    "iso_JJA_NoML[\"layer_bounds\"] = layer_bounds\n",
    "iso_JJA_NoML[\"layer_bounds\"].attrs[\"axis\"] = \"Z\"\n",
    "iso_JJA_NoML[\"layer_bounds\"].attrs[\"c_grid_axis_shift\"] = -0.5\n",
    "gridtmp = xgcm.Grid(iso_JJA_NoML, periodic=False, metrics=metrics_tmp)\n",
    "exclude = [\"levThick\", \"layer_depths\", \"levThickmean\", \"layer_bounds\"]\n",
    "for var in iso_JJA_NoML.variables:\n",
    "    if ((var not in iso_JJA_NoML.coords) & (var not in exclude)):\n",
    "        iso_JJA_NoML[var + \"_z\"] = gridtmp.transform(iso_JJA_NoML[var], \"Z\", ds_1y.Z, target_data=iso_JJA_NoML.layer_depths)"
   ]
  },
  {
   "cell_type": "code",
   "execution_count": null,
   "id": "362069ac-3b7d-42af-bb9d-ad55c6f98cd9",
   "metadata": {},
   "outputs": [],
   "source": [
    "isopycnal_HT_JJA_NoML = xr.Dataset(coords={\"YG\": ds_1y.YG, \"Z\": ds_1y.Z, \"layer_center\": iso_JJA_NoML.layer_center})\n",
    "isopycnal_HT_JJA_NoML[\"iso_total\"] = (iso_JJA_NoML.ADViso + iso_JJA_NoML.DIFFiso * 1e-12).mean(\"time\")\n",
    "isopycnal_HT_JJA_NoML[\"iso_totaleddy\"] = (iso_JJA_NoML.ADViso_eddyV + iso_JJA_NoML.DIFFiso_eddy_opt4 * 1e-12).mean(\"time\")\n",
    "isopycnal_HT_JJA_NoML[\"iso_total_z\"] = (iso_JJA_NoML.ADViso_z + iso_JJA_NoML.DIFFiso_z * 1e-12).mean(\"time\")\n",
    "isopycnal_HT_JJA_NoML[\"iso_totaleddy_z\"] = (iso_JJA_NoML.ADViso_eddyV_z + iso_JJA_NoML.DIFFiso_eddy_opt4_z * 1e-12).mean(\"time\")\n",
    "isopycnal_HT_JJA_NoML[\"levThick\"] = iso_JJA_NoML.levThick.mean(\"time\")"
   ]
  },
  {
   "cell_type": "code",
   "execution_count": null,
   "id": "09d34136-db9b-4725-9d12-c05a512851dc",
   "metadata": {},
   "outputs": [],
   "source": [
    "mean_HT_JJA_NoML.to_netcdf(\"mean_heat_transports_0201-01-01_0300-12-30_JJA_NoML_zonal_integral.nc\")\n",
    "transient_HT_JJA_NoML.to_netcdf(\"transient_heat_transports_0201-01-01_0300-12-30_JJA_NoML_zonal_integral.nc\")\n",
    "isopycnal_HT_JJA_NoML.to_netcdf(\"isopycnal_heat_transports_0201-01-01_0300-12-30_JJA_NoML_zonal_integral.nc\")"
   ]
  },
  {
   "cell_type": "markdown",
   "id": "d39d47d0-3b00-42e5-8567-3ca2870861fe",
   "metadata": {},
   "source": [
    "### Figure 8\n",
    "\n",
    "The ocean-ice heat flux and vertical heat transport (`VHT`) across the depth of the mean winter mixed layer have already been calculated, we just need to integrate `VHT` zonally and convert everything to TW."
   ]
  },
  {
   "cell_type": "code",
   "execution_count": null,
   "id": "b66a3ef2-134f-4c4c-aabd-e27de06092ce",
   "metadata": {},
   "outputs": [],
   "source": [
    "VHT = xr.open_mfdataset(path + \"post/VHT_across_base_of_winter_MLD.JJA.0201-0300.nc\")\n",
    "OIQ = xr.open_mfdataset(path + \"post/OIQ.JJA.0201-0300.nc\")"
   ]
  },
  {
   "cell_type": "code",
   "execution_count": null,
   "id": "1988b836-eb73-4634-8c18-158d95d6771c",
   "metadata": {},
   "outputs": [],
   "source": [
    "OIQ_JJA = xr.Dataset(coords={\"YG\": ds_1y.YG})\n",
    "OIQ_JJA[\"total\"] = (OIQ.OIQtotal / 1e12).mean(\"time\")\n",
    "OIQ_JJA[\"prime\"] = (OIQ.OIQprime / 1e12).mean(\"time\")\n",
    "OIQ_JJA[\"prime_CME\"] = (OIQ.OIQprimeeddy / 1e12).mean(\"time\")\n",
    "OIQ_JJA[\"prime_CME_anti\"] = (OIQ.OIQprimeeddy_anticyclones / 1e12).mean(\"time\")\n",
    "OIQ_JJA[\"prime_CME_cycl\"] = (OIQ.OIQprimeeddy_cyclones / 1e12).mean(\"time\")"
   ]
  },
  {
   "cell_type": "code",
   "execution_count": null,
   "id": "ad17f0a9-4d87-4df0-84d5-a2112458c38d",
   "metadata": {},
   "outputs": [],
   "source": [
    "VHT_JJA = xr.Dataset(coords={\"YG\": ds_1y.YG})\n",
    "VHT_JJA[\"total\"] = ((VHT.VHTbar + VHT.VHTprime) * ds_1y.dyU.isel(XG=0) / 1e12).mean(\"time\")\n",
    "VHT_JJA[\"prime\"] = (VHT.VHTprime * ds_1y.dyU.isel(XG=0) / 1e12).mean(\"time\")\n",
    "VHT_JJA[\"CME\"] = (VHT.VHTeddy * ds_1y.dyU.isel(XG=0) / 1e12).mean(\"time\")\n",
    "VHT_JJA[\"CME_anti\"] = (VHT.VHTeddy_anticyclones * ds_1y.dyU.isel(XG=0) / 1e12).mean(\"time\")\n",
    "VHT_JJA[\"CME_cycl\"] = (VHT.VHTeddy_cyclones * ds_1y.dyU.isel(XG=0) / 1e12).mean(\"time\")\n",
    "VHT_JJA[\"DIFF\"] = (VHT.VHTDIFFbar / 1e12).mean(\"time\")"
   ]
  },
  {
   "cell_type": "code",
   "execution_count": null,
   "id": "aca1c16a-a613-4ab7-96b4-29169d937701",
   "metadata": {},
   "outputs": [],
   "source": [
    "OIQ_JJA.to_netcdf(\"ocean_ice_heat_transports_0201-01-01_0300-12-30_JJA_zonal_integral.nc\")\n",
    "VHT_JJA.to_netcdf(\"vertical_heat_transports_0201-01-01_0300-12-30_JJA_zonal_integral.nc\")"
   ]
  },
  {
   "cell_type": "markdown",
   "id": "684fb685-52d3-427c-b28b-8eb04b421836",
   "metadata": {},
   "source": [
    "### Figure 9"
   ]
  },
  {
   "cell_type": "markdown",
   "id": "ea836311-bd62-467e-b0a5-ded42b1659b6",
   "metadata": {},
   "source": [
    "Nothing to prepare."
   ]
  },
  {
   "cell_type": "markdown",
   "id": "961c8d46-77a3-4441-b102-51d8078a3364",
   "metadata": {},
   "source": [
    "### Figure S1\n",
    "\n",
    "Same as for Figure 4, 5 and 6 but for the trapping component of HT split into contributions by anticyclones and cyclones."
   ]
  },
  {
   "cell_type": "code",
   "execution_count": null,
   "id": "0ef5df82-1642-4e75-a162-0a621ec07312",
   "metadata": {},
   "outputs": [],
   "source": [
    "HTtrap_anticyclones = xr.open_mfdataset(path + \"post/THTobs_anticyclones.0201-0300.nc\", \n",
    "                                        concat_dim=\"time\", combine=\"nested\",  data_vars='minimal', \n",
    "                                        coords='minimal', compat='override').rename({\"lat\": \"YG\", \"z\": \"Z\"})\n",
    "HTtrap_cyclones = xr.open_mfdataset(path + \"post/THTobs_cyclones.0201-0300.nc\", \n",
    "                                    concat_dim=\"time\", combine=\"nested\",  data_vars='minimal', \n",
    "                                    coords='minimal', compat='override').rename({\"lat\": \"YG\", \"z\": \"Z\"})"
   ]
  },
  {
   "cell_type": "code",
   "execution_count": null,
   "id": "b2bccfdb-5735-4c58-8be4-b4f3bcb525e8",
   "metadata": {},
   "outputs": [],
   "source": [
    "obs_like_HT = xr.Dataset(coords={\"YG\": ds_1y.YG})\n",
    "obs_like_HT[\"THTtrap\"] = ((HTtrap[\"THTobs\"] * dz * hfac.T).sum(\"Z\") * 1e-12).mean(\"time\")\n",
    "obs_like_HT[\"THTtrapstd\"] = ((HTtrap[\"THTobs\"] * dz * hfac.T).sum(\"Z\") * 1e-12).std(\"time\")\n",
    "obs_like_HT[\"THTtrap_anticyclones\"] = ((HTtrap_anticyclones[\"THTobs\"] * dz * hfac.T).sum(\"Z\") * 1e-12).mean(\"time\")\n",
    "obs_like_HT[\"THTtrap_anticyclonesstd\"] = ((HTtrap_anticyclones[\"THTobs\"] * dz * hfac.T).sum(\"Z\") * 1e-12).std(\"time\")\n",
    "obs_like_HT[\"THTtrap_cyclones\"] = ((HTtrap_cyclones[\"THTobs\"] * dz * hfac.T).sum(\"Z\") * 1e-12).mean(\"time\")\n",
    "obs_like_HT[\"THTtrap_cyclonesstd\"] = ((HTtrap_cyclones[\"THTobs\"] * dz * hfac.T).sum(\"Z\") * 1e-12).std(\"time\")"
   ]
  },
  {
   "cell_type": "code",
   "execution_count": null,
   "id": "5e2cfb7a-99ae-480c-ab9b-0244c9600f3b",
   "metadata": {},
   "outputs": [],
   "source": [
    "obs_like_HT.to_netcdf(\"obs_like_heat_transports_0201-01-01_0300-12-30_zonal_vertical_integral.nc\")"
   ]
  },
  {
   "cell_type": "markdown",
   "id": "1f49b39e-f65e-4d6e-82e1-e888d3c0b521",
   "metadata": {},
   "source": [
    "### Figure S2\n",
    "\n",
    "Same as for Figure 4, 5 and 6 but for the contribution to isopycnal heat transport by CME split up into anticyclones and cyclones."
   ]
  },
  {
   "cell_type": "code",
   "execution_count": null,
   "id": "e7d6127e-415e-4410-88a1-ddd17eea8844",
   "metadata": {},
   "outputs": [],
   "source": [
    "iso = xr.open_mfdataset(path + \"post/HTisoNoMLjja_eddy.0201-0300.nc\").drop(\"z\")"
   ]
  },
  {
   "cell_type": "code",
   "execution_count": null,
   "id": "2d7a42a8-d141-4cdf-9c55-d7759d8ab088",
   "metadata": {},
   "outputs": [],
   "source": [
    "isopycnal_eddy_HT = xr.Dataset(coords={\"YG\": ds_1y.YG})\n",
    "isopycnal_eddy_HT[\"iso_total\"] = ((iso.ADViso + iso.DIFFiso).sum(\"layer_center\") * 1e-12).mean(\"time\")\n",
    "isopycnal_eddy_HT[\"iso_totalstd\"] = ((iso.ADViso + iso.DIFFiso).sum(\"layer_center\") * 1e-12).std(\"time\")\n",
    "isopycnal_eddy_HT[\"iso_totaleddy\"] = ((iso.ADViso_eddyV \n",
    "                                       + iso.DIFFiso_eddy_opt4).sum(\"layer_center\") * 1e-12).mean(\"time\")\n",
    "isopycnal_eddy_HT[\"iso_totaleddystd\"] = ((iso.ADViso_eddyV \n",
    "                                          + iso.DIFFiso_eddy_opt4).sum(\"layer_center\") * 1e-12).std(\"time\")\n",
    "isopycnal_eddy_HT[\"iso_totaleddy_anticyclones\"] = ((iso.ADViso_eddyV_anticyclones \n",
    "                                                    + iso.DIFFiso_eddy_anticyclones_opt4).sum(\"layer_center\") * 1e-12).mean(\"time\")\n",
    "isopycnal_eddy_HT[\"iso_totaleddy_anticyclonesstd\"] = ((iso.ADViso_eddyV_anticyclones \n",
    "                                                       + iso.DIFFiso_eddy_anticyclones_opt4).sum(\"layer_center\") * 1e-12).std(\"time\")\n",
    "isopycnal_eddy_HT[\"iso_totaleddy_cyclones\"] = ((iso.ADViso_eddyV_cyclones \n",
    "                                                + iso.DIFFiso_eddy_cyclones_opt4).sum(\"layer_center\") * 1e-12).mean(\"time\")\n",
    "isopycnal_eddy_HT[\"iso_totaleddy_cyclonesstd\"] = ((iso.ADViso_eddyV_cyclones \n",
    "                                                   + iso.DIFFiso_eddy_cyclones_opt4).sum(\"layer_center\") * 1e-12).std(\"time\")"
   ]
  },
  {
   "cell_type": "code",
   "execution_count": null,
   "id": "25a87377-03ba-46af-82cf-2768681c51c0",
   "metadata": {},
   "outputs": [],
   "source": [
    "isopycnal_eddy_HT.to_netcdf(\"isopycnal_eddy_heat_transports_0201-01-01_0300-12-30_zonal_vertical_integral.nc\")"
   ]
  },
  {
   "cell_type": "markdown",
   "id": "fcd20004-0d09-4cbc-9f40-5e562c01f989",
   "metadata": {},
   "source": [
    "### Figure S3\n",
    "\n",
    "Same as for Figure 4, 5 and 6 but for the contribution to isopycnal heat transport by \"advectve\" and \"diffusice\" processes (as defined by Lee et al., 2007)."
   ]
  },
  {
   "cell_type": "code",
   "execution_count": null,
   "id": "f8528573-7ae9-406d-a907-33faa4ddf174",
   "metadata": {},
   "outputs": [],
   "source": [
    "iso[\"layer_depths\"] = xr.DataArray(-iso.levThick.mean(\"time\").sortby(\"layer_center\", \n",
    "                                                                     ascending=True).cumsum(dim=\"layer_center\").values, \n",
    "                                       dims=(\"YG\", \"layer_center\"))\n",
    "iso[\"levThickmean\"] = xr.DataArray(iso.levThick.mean(\"time\").values, \n",
    "                                                  dims=(\"YG\", \"layer_center\"))\n",
    "metrics_tmp = {\n",
    "    ('Z'): ['levThickmean'], # Z distances\n",
    "    }\n",
    "iso[\"layer_center\"] = target_rho_levelsC\n",
    "iso[\"layer_center\"].attrs[\"axis\"] = \"Z\"\n",
    "iso[\"layer_bounds\"] = layer_bounds\n",
    "iso[\"layer_bounds\"].attrs[\"axis\"] = \"Z\"\n",
    "iso[\"layer_bounds\"].attrs[\"c_grid_axis_shift\"] = -0.5\n",
    "gridtmp = xgcm.Grid(iso, periodic=False, metrics=metrics_tmp)\n",
    "exclude = [\"levThick\", \"layer_depths\", \"levThickmean\", \"layer_bounds\"]\n",
    "for var in iso.variables:\n",
    "    if ((var not in iso.coords) & (var not in exclude)):\n",
    "        iso[var + \"_z\"] = gridtmp.transform(iso[var], \"Z\", ds_1y.Z, target_data=iso.layer_depths)"
   ]
  },
  {
   "cell_type": "code",
   "execution_count": null,
   "id": "93c2fb6b-9b77-4001-a05d-ee38eb12e1df",
   "metadata": {},
   "outputs": [],
   "source": [
    "iso_eddy_HT_detail = xr.Dataset(coords={\"YG\": ds_1y.YG})\n",
    "iso_eddy_HT_detail[\"iso_ADV\"] = (iso.ADViso_eddyV * 1e-12).mean(\"time\")\n",
    "iso_eddy_HT_detail[\"iso_ADVstd\"] = (iso.ADViso_eddyV * 1e-12).std(\"time\")\n",
    "iso_eddy_HT_detail[\"iso_DIFF\"] = (iso.DIFFiso_eddy_opt4 * 1e-12).mean(\"time\")\n",
    "iso_eddy_HT_detail[\"iso_DIFFstd\"] = (iso.DIFFiso_eddy_opt4 * 1e-12).std(\"time\")\n",
    "iso_eddy_HT_detail[\"iso_ADV_z\"] = (iso.ADViso_eddyV_z * 1e-12).mean(\"time\")\n",
    "iso_eddy_HT_detail[\"iso_ADVstd_z\"] = (iso.ADViso_eddyV_z * 1e-12).std(\"time\")\n",
    "iso_eddy_HT_detail[\"iso_DIFF_z\"] = (iso.DIFFiso_eddy_opt4_z * 1e-12).mean(\"time\")\n",
    "iso_eddy_HT_detail[\"iso_DIFFstd_z\"] = (iso.DIFFiso_eddy_opt4_z * 1e-12).std(\"time\")"
   ]
  },
  {
   "cell_type": "code",
   "execution_count": null,
   "id": "0f75c42a-5fe9-449a-98f5-aeee33978c2d",
   "metadata": {},
   "outputs": [],
   "source": [
    "iso_eddy_HT_detail.to_netcdf(\"isopycnal_eddy_heat_transports_details_0201-01-01_0300-12-30_zonal_integral_on_z.nc\")"
   ]
  },
  {
   "cell_type": "code",
   "execution_count": null,
   "id": "9411e433-a3f2-49aa-8c0e-101d4bb01812",
   "metadata": {},
   "outputs": [],
   "source": [
    "ds_5d.MXLDEPTH.max((\"time\", \"XC\")).to_netcdf(\"MXLDEPTH_0201-01-01_0300-12-30_max_zonal_max.nc\")"
   ]
  },
  {
   "cell_type": "markdown",
   "id": "27d66b85-a907-4c34-a0b9-1da7fa2b9e7d",
   "metadata": {},
   "source": [
    "### Figure S4\n",
    "\n",
    "Count the number of anticyclones and cyclones at each latitude."
   ]
  },
  {
   "cell_type": "code",
   "execution_count": null,
   "id": "b31f7fda-68db-42d7-908d-77ba11e7bf01",
   "metadata": {},
   "outputs": [],
   "source": [
    "eddies_time_range = xr.cftime_range(start='0201-01-03 00', end='0300-12-30 00', \n",
    "                                    calendar='360_day', freq=str(5) + 'D')\n",
    "etr = [str(eddies_time_range[t]) for t in range(0, len(eddies_time_range))]\n",
    "eddies = {}\n",
    "for i in np.arange(0, len(etr)):\n",
    "    datestring = etr[i][0:10]\n",
    "    with open(path + 'tracking/eddies/eddies_'\n",
    "              + datestring + '.pickle', 'rb') as f:\n",
    "        eddies[i] = pickle.load(f)\n",
    "    f.close()"
   ]
  },
  {
   "cell_type": "code",
   "execution_count": null,
   "id": "2027b6ee-d22c-4a92-a7aa-7c60a64e3fe8",
   "metadata": {},
   "outputs": [],
   "source": [
    "number = 0\n",
    "time = []\n",
    "typ = []\n",
    "lon = []\n",
    "lat = []\n",
    "eddy_i = []\n",
    "eddy_j = []\n",
    "area = []\n",
    "scale = []\n",
    "amp = []\n",
    "for j in np.arange(0, len(eddies)):\n",
    "    number += len(eddies[j])\n",
    "    time.append(np.stack([eddies[j][k][\"time\"] for k in np.arange(0, len(eddies[j]))]))\n",
    "    typ.append(np.stack([eddies[j][k][\"type\"] for k in np.arange(0, len(eddies[j]))]))\n",
    "    lon.append(np.stack([eddies[j][k][\"lon\"][0] for k in np.arange(0, len(eddies[j]))]))\n",
    "    lat.append(np.stack([eddies[j][k][\"lat\"][0] for k in np.arange(0, len(eddies[j]))]))\n",
    "    eddy_i.append(np.stack([int(np.median(eddies[j][k][\"eddy_i\"])) for k in np.arange(0, len(eddies[j]))]))\n",
    "    eddy_j.append(np.stack([int(np.median(eddies[j][k][\"eddy_j\"])) for k in np.arange(0, len(eddies[j]))]))\n",
    "    area.append(np.stack([eddies[j][k][\"area\"][0] for k in np.arange(0, len(eddies[j]))]))\n",
    "    scale.append(np.stack([eddies[j][k][\"scale\"][0][0] for k in np.arange(0, len(eddies[j]))]))\n",
    "    amp.append(np.stack([eddies[j][k][\"amp\"][0] for k in np.arange(0, len(eddies[j]))]))\n",
    "\n",
    "all_eddies = xr.Dataset({\"number\": ([\"number\"], np.arange(0, number)),\n",
    "                         \"time\": ([\"number\"], np.hstack(time)),\n",
    "                         \"type\": ([\"number\"], np.hstack(typ)),\n",
    "                         \"lon\": ([\"number\"], np.hstack(lon)),\n",
    "                         \"lat\": ([\"number\"], np.hstack(lat)),\n",
    "                         \"eddy_i\": ([\"number\"], np.hstack(eddy_i)),\n",
    "                         \"eddy_j\": ([\"number\"], np.hstack(eddy_j)),\n",
    "                         \"scale\": ([\"number\"], np.hstack(scale)),\n",
    "                         \"amp\": ([\"number\"], np.hstack(amp))\n",
    "                        })\n",
    "\n",
    "all_eddies[\"SIarea\"] = ds_5d.SIarea.isel(XC=all_eddies.eddy_i, \n",
    "                                         YC=all_eddies.eddy_j).sel(time=all_eddies.time, \n",
    "                                                              method=\"nearest\").drop([\"XC\", \"YC\", \"time\"])\n",
    "\n",
    "all_eddies.to_netcdf(\"all_eddies_02010101_03001230.nc\")"
   ]
  },
  {
   "cell_type": "code",
   "execution_count": null,
   "id": "5572830d-9181-4201-9df0-b6e81054dc4c",
   "metadata": {},
   "outputs": [],
   "source": [
    "cycl_eddy = all_eddies.where(all_eddies.type == 'cyclonic')\n",
    "anti_eddy = all_eddies.where(all_eddies.type == 'anticyclonic')"
   ]
  },
  {
   "cell_type": "code",
   "execution_count": null,
   "id": "5e8e9f39-8dfc-4928-b358-fd75f3e6fc80",
   "metadata": {},
   "outputs": [],
   "source": [
    "lat_bins = np.linspace(0, 3.2e6, 320)\n",
    "lat_labels = (lat_bins[0:-1] + lat_bins[1::]) / 2\n",
    "lats = xr.Dataset(coords={\"lat\": lat_labels})\n",
    "                  \n",
    "lats[\"number_cyc\"] = cycl_eddy.dropna(\"number\").groupby_bins(\"lat\", bins=lat_bins, \n",
    "                                                        labels=lat_labels).count().lat.rename({\"lat_bins\": \"lat\"})\n",
    "lats[\"number_anti\"] = anti_eddy.dropna(\"number\").groupby_bins(\"lat\", bins=lat_bins, \n",
    "                                                         labels=lat_labels).count().lat.rename({\"lat_bins\": \"lat\"})"
   ]
  },
  {
   "cell_type": "code",
   "execution_count": null,
   "id": "8ee463ea-4f70-4b18-b8fc-b2df7312cefb",
   "metadata": {},
   "outputs": [],
   "source": [
    "lats.to_netcdf(\"eddy_lat_distribution.nc\")"
   ]
  },
  {
   "cell_type": "code",
   "execution_count": null,
   "id": "8215af4d-ecde-450e-bf9e-25913a2f67fa",
   "metadata": {},
   "outputs": [],
   "source": []
  }
 ],
 "metadata": {
  "kernelspec": {
   "display_name": "Python eddytools",
   "language": "python",
   "name": "py_eddytools"
  },
  "language_info": {
   "codemirror_mode": {
    "name": "ipython",
    "version": 3
   },
   "file_extension": ".py",
   "mimetype": "text/x-python",
   "name": "python",
   "nbconvert_exporter": "python",
   "pygments_lexer": "ipython3",
   "version": "3.8.10"
  }
 },
 "nbformat": 4,
 "nbformat_minor": 5
}
