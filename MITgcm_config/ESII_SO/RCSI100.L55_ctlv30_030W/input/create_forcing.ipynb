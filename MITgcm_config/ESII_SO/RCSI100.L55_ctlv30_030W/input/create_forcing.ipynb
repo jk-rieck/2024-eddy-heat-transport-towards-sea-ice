{
 "cells": [
  {
   "cell_type": "code",
   "execution_count": 1,
   "metadata": {},
   "outputs": [],
   "source": [
    "import numpy as np\n",
    "import numpy.polynomial.polynomial as poly\n",
    "from matplotlib import pyplot as plt\n",
    "import xarray as xr\n",
    "import cmocean.cm as cmo"
   ]
  },
  {
   "cell_type": "code",
   "execution_count": 2,
   "metadata": {},
   "outputs": [],
   "source": [
    "setup = \"ESII_SO\"\n",
    "confi = \"RCSI100.L55_ctlv30_030W\""
   ]
  },
  {
   "cell_type": "markdown",
   "metadata": {},
   "source": [
    "We load the bathymetry and vertical axis created before to know the extent of the configurations domain."
   ]
  },
  {
   "cell_type": "code",
   "execution_count": 3,
   "metadata": {},
   "outputs": [],
   "source": [
    "ds_bathy = xr.open_dataset(setup + \"-\" + confi + \"-bathymetry_and_mask.nc\", engine='h5netcdf')\n",
    "xnum = len(ds_bathy.x)\n",
    "ynum = len(ds_bathy.y)\n",
    "dx = ds_bathy.x.grid_spacing\n",
    "dy = ds_bathy.y.grid_spacing\n",
    "\n",
    "ds_z_axis = xr.open_dataset(setup + \"-\" + confi + \"-vertical_grid.nc\", engine='h5netcdf')\n",
    "z = ds_z_axis[\"Z\"].values"
   ]
  },
  {
   "cell_type": "markdown",
   "metadata": {},
   "source": [
    "Define latitudinal and longitudinal range to use from ERA5 (the domain of the configuration is then assumed to span approximately this coordinate range for interpolation purposes). Note that these latitudinal and longitudinal bounds should correspond to the ones chosen for the initial conditions (technically, they do not have to, but in most cases it makes not much sense to choose different regions for initial condictions and atmospheric forcing)."
   ]
  },
  {
   "cell_type": "code",
   "execution_count": 4,
   "metadata": {},
   "outputs": [],
   "source": [
    "lat_min = -75\n",
    "lat_max = -35\n",
    "lon_cen = -30\n",
    "\n",
    "fake_lat = np.linspace(lat_min, lat_max, ynum)"
   ]
  },
  {
   "cell_type": "markdown",
   "metadata": {},
   "source": [
    "The ERA5 data has been downloaded before with [this notebook](https://github.com/jk-rieck/MITgcm_create_input/blob/main/ERA5_download.ipynb)"
   ]
  },
  {
   "cell_type": "code",
   "execution_count": 5,
   "metadata": {},
   "outputs": [],
   "source": [
    "# hourly fields\n",
    "era5 = xr.open_mfdataset(\"/home/jrieck/ERA5/ERA5_reanalysis_single_levels-1h-1991*.nc\", \n",
    "                       engine='scipy')"
   ]
  },
  {
   "cell_type": "markdown",
   "metadata": {},
   "source": [
    "Now we extract the desired (horizontal) domain from the ERA5 dataset and only include values at points where we have `sst` values in order to force our configuration with values that represent conditions over ocean.  \n",
    "Additionally, we define empty datasets `ds_fit` and `ds_out` to store the calculated quantities for the forcing and save the to disk later on."
   ]
  },
  {
   "cell_type": "code",
   "execution_count": 6,
   "metadata": {},
   "outputs": [
    {
     "name": "stderr",
     "output_type": "stream",
     "text": [
      "/home/jrieck/.venv/py39/lib/python3.9/site-packages/xarray/core/indexing.py:1379: PerformanceWarning: Slicing is producing a large chunk. To accept the large\n",
      "chunk and silence this warning, set the option\n",
      "    >>> with dask.config.set(**{'array.slicing.split_large_chunks': False}):\n",
      "    ...     array[indexer]\n",
      "\n",
      "To avoid creating the large chunks, set the option\n",
      "    >>> with dask.config.set(**{'array.slicing.split_large_chunks': True}):\n",
      "    ...     array[indexer]\n",
      "  return self.array[key]\n"
     ]
    }
   ],
   "source": [
    "ds_ex = era5.sel(latitude=slice(lat_max, lat_min)).where(~np.isnan(era5.sst)).sel(longitude=lon_cen, method='nearest')"
   ]
  },
  {
   "cell_type": "code",
   "execution_count": 7,
   "metadata": {},
   "outputs": [],
   "source": [
    "ds_ex_3h = ds_ex.resample(time='3H').mean()"
   ]
  },
  {
   "cell_type": "markdown",
   "metadata": {},
   "source": [
    "Now we define a function that interpolates this to our grid."
   ]
  },
  {
   "cell_type": "code",
   "execution_count": 8,
   "metadata": {},
   "outputs": [],
   "source": [
    "def interp(var, ds, lat):\n",
    "    return ds[var].interp(latitude=lat, method='linear', kwargs={'fill_value': 'extrapolate'})"
   ]
  },
  {
   "cell_type": "code",
   "execution_count": 9,
   "metadata": {},
   "outputs": [],
   "source": [
    "temperature = np.zeros((len(ds_ex_3h.time), ynum, xnum))\n",
    "temperature = temperature + interp('t2m', ds_ex_3h, fake_lat).values[:, :, None]"
   ]
  },
  {
   "cell_type": "code",
   "execution_count": 10,
   "metadata": {},
   "outputs": [
    {
     "data": {
      "text/plain": [
       "[<matplotlib.lines.Line2D at 0x14c04f749160>]"
      ]
     },
     "execution_count": 10,
     "metadata": {},
     "output_type": "execute_result"
    },
    {
     "data": {
      "image/png": "[encoded data removed]",
      "text/plain": [
       "<Figure size 432x288 with 1 Axes>"
      ]
     },
     "metadata": {
      "needs_background": "light"
     },
     "output_type": "display_data"
    }
   ],
   "source": [
    "plt.plot(fake_lat, temperature[0, :, 0] - 273.15)"
   ]
  },
  {
   "cell_type": "markdown",
   "metadata": {},
   "source": [
    "And we repeat the steps above for the remaining variables."
   ]
  },
  {
   "cell_type": "code",
   "execution_count": 12,
   "metadata": {},
   "outputs": [],
   "source": [
    "zonal_wind = np.zeros((len(ds_ex_3h.time), ynum, xnum))\n",
    "zonal_wind = zonal_wind + interp('u10', ds_ex_3h, fake_lat).values[:, :, None]"
   ]
  },
  {
   "cell_type": "code",
   "execution_count": 13,
   "metadata": {},
   "outputs": [
    {
     "data": {
      "text/plain": [
       "[<matplotlib.lines.Line2D at 0x14c04f5ffac0>]"
      ]
     },
     "execution_count": 13,
     "metadata": {},
     "output_type": "execute_result"
    },
    {
     "data": {
      "image/png": "[encoded data removed]",
      "text/plain": [
       "<Figure size 432x288 with 1 Axes>"
      ]
     },
     "metadata": {
      "needs_background": "light"
     },
     "output_type": "display_data"
    }
   ],
   "source": [
    "plt.plot(fake_lat, np.mean(zonal_wind[:, :, 0], axis=0))"
   ]
  },
  {
   "cell_type": "code",
   "execution_count": 14,
   "metadata": {},
   "outputs": [],
   "source": [
    "meridional_wind = np.zeros((len(ds_ex_3h.time), ynum, xnum))\n",
    "meridional_wind = meridional_wind + interp('v10', ds_ex_3h, fake_lat).values[:, :, None]"
   ]
  },
  {
   "cell_type": "code",
   "execution_count": 15,
   "metadata": {},
   "outputs": [
    {
     "data": {
      "text/plain": [
       "[<matplotlib.lines.Line2D at 0x14c04e6cae80>]"
      ]
     },
     "execution_count": 15,
     "metadata": {},
     "output_type": "execute_result"
    },
    {
     "data": {
      "image/png": "[encoded data removed]",
      "text/plain": [
       "<Figure size 432x288 with 1 Axes>"
      ]
     },
     "metadata": {
      "needs_background": "light"
     },
     "output_type": "display_data"
    }
   ],
   "source": [
    "plt.plot(fake_lat, np.mean(meridional_wind[:, :, 0], axis=0))"
   ]
  },
  {
   "cell_type": "markdown",
   "metadata": {},
   "source": [
    "precipitation is in m per hour. So we need to divide by (60 * 60) seconds to get m/s"
   ]
  },
  {
   "cell_type": "code",
   "execution_count": 16,
   "metadata": {},
   "outputs": [],
   "source": [
    "precipitation = np.zeros((len(ds_ex_3h.time), ynum, xnum))\n",
    "precipitation = precipitation + interp('tp', ds_ex_3h, fake_lat).values[:, :, None] / (60 * 60)"
   ]
  },
  {
   "cell_type": "code",
   "execution_count": 17,
   "metadata": {},
   "outputs": [
    {
     "data": {
      "text/plain": [
       "[<matplotlib.lines.Line2D at 0x14c04eb1fcd0>]"
      ]
     },
     "execution_count": 17,
     "metadata": {},
     "output_type": "execute_result"
    },
    {
     "data": {
      "image/png": "[encoded data removed]",
      "text/plain": [
       "<Figure size 432x288 with 1 Axes>"
      ]
     },
     "metadata": {
      "needs_background": "light"
     },
     "output_type": "display_data"
    }
   ],
   "source": [
    "plt.plot(fake_lat, np.mean(precipitation[:, :, 0], axis=0))"
   ]
  },
  {
   "cell_type": "markdown",
   "metadata": {},
   "source": [
    "Both, shortwave and longwave radiation is in J/m2 per hour. So we need to divide by (60 * 60) seconds to get W/m2"
   ]
  },
  {
   "cell_type": "code",
   "execution_count": 18,
   "metadata": {},
   "outputs": [],
   "source": [
    "downward_shortwave = np.zeros((len(ds_ex_3h.time), ynum, xnum))\n",
    "downward_shortwave = downward_shortwave + interp('ssrd', ds_ex_3h, fake_lat).values[:, :, None] / (60 * 60)"
   ]
  },
  {
   "cell_type": "code",
   "execution_count": 20,
   "metadata": {},
   "outputs": [
    {
     "data": {
      "text/plain": [
       "[<matplotlib.lines.Line2D at 0x14c04eae49a0>]"
      ]
     },
     "execution_count": 20,
     "metadata": {},
     "output_type": "execute_result"
    },
    {
     "data": {
      "image/png": "[encoded data removed]",
      "text/plain": [
       "<Figure size 432x288 with 1 Axes>"
      ]
     },
     "metadata": {
      "needs_background": "light"
     },
     "output_type": "display_data"
    }
   ],
   "source": [
    "plt.plot(fake_lat, np.mean(downward_shortwave[:, :, 0], axis=0))"
   ]
  },
  {
   "cell_type": "code",
   "execution_count": 21,
   "metadata": {},
   "outputs": [],
   "source": [
    "downward_longwave = np.zeros((len(ds_ex_3h.time), ynum, xnum))\n",
    "downward_longwave = downward_longwave + interp('strd', ds_ex_3h, fake_lat).values[:, :, None] / (60 * 60)"
   ]
  },
  {
   "cell_type": "code",
   "execution_count": 22,
   "metadata": {},
   "outputs": [
    {
     "data": {
      "text/plain": [
       "[<matplotlib.lines.Line2D at 0x14c04df85d60>]"
      ]
     },
     "execution_count": 22,
     "metadata": {},
     "output_type": "execute_result"
    },
    {
     "data": {
      "image/png": "[encoded data removed]",
      "text/plain": [
       "<Figure size 432x288 with 1 Axes>"
      ]
     },
     "metadata": {
      "needs_background": "light"
     },
     "output_type": "display_data"
    }
   ],
   "source": [
    "plt.plot(fake_lat, np.mean(downward_longwave[:, :, 0], axis=0))"
   ]
  },
  {
   "cell_type": "markdown",
   "metadata": {},
   "source": [
    "Here we calculate specific humidity in the same manner that the MITgcm [`EXF`](https://mitgcm.readthedocs.io/en/latest/phys_pkgs/exf.html#run-time-parameters) package would calculate it. We assume a constant relative humidity of 70%."
   ]
  },
  {
   "cell_type": "code",
   "execution_count": 23,
   "metadata": {},
   "outputs": [],
   "source": [
    "cvapor_fac = 640380.0\n",
    "cvapor_exp = 5107.4\n",
    "atmrho = 1.2\n",
    "rh=70\n",
    "tmpbulk = cvapor_fac * np.exp(-cvapor_exp / temperature)\n",
    "specific_humidity = (rh/100.) * tmpbulk / atmrho"
   ]
  },
  {
   "cell_type": "markdown",
   "metadata": {},
   "source": [
    "__Runoff__ is estimated based on calving fluxes and basal melt rates reported by [Depoorter et al. (2013)](https://www.nature.com/articles/nature12567). They estimate a total runoff of 2775 Gt/year for Antarctica. Taking into account the total length of the 75$^{\\circ}$S parallel is approximately 10405 km, the runoff per km of \"coastline\" is 0.267 Gt/year. We take the 75$^{\\circ}$S parallel as an approximation to the Antarctic coastline as it is exactly that in our simulation. The length of the coastline in this configuration is 2400 km, so that we estimate a runoff of ~641 Gt/year for our configuration (equivalent to ~22173 m$^{3}$/s, assuming an ice density of 916.7 kg/m$^{3}$):  \n",
    "$ro = 641 \\frac{Gt}{year} = 641 \\times 10^{12}\\frac{kg}{year}$  \n",
    "$ro = \\frac{641 \\times 10^{12} \\frac{kg}{year}}{(60 * 60 * 24 * 365) \\frac{s}{year}} \\sim  20.3 \\times 10^{6} \\frac{kg}{s}$  \n",
    "$ro \\sim  \\frac{20.3 \\times 10^{6} \\frac{kg}{s}}{916.7 \\frac{kg}{m^{3}}} \\sim 22173 \\frac{m^{3}}{s}$   \n",
    "This runoff is distributed among the surface near-shore grid cells of the domain as illustrated below. Liquid runoff from Antarctica is neglected. Note that the runoff does not have a seasonal cycle, i.e. the runoff of Antarctica is assumed to be constant throughout the year. \n",
    "\n",
    "First, we define how big the cells are (area) depending on the horizontal grid."
   ]
  },
  {
   "cell_type": "code",
   "execution_count": 24,
   "metadata": {},
   "outputs": [],
   "source": [
    "area = (dx * 1e3) * (dy * 1e3)"
   ]
  },
  {
   "cell_type": "code",
   "execution_count": 25,
   "metadata": {},
   "outputs": [],
   "source": [
    "runoff = np.zeros(np.shape(downward_longwave[0:1,...]))"
   ]
  },
  {
   "cell_type": "markdown",
   "metadata": {},
   "source": [
    "We distribute the runoff within the first 10 grid cells away from the coast, to account for ice that is moved northward before melting. The cells closest to the coast get more runoff (this could be interpreted as the ice shelf basal melt contributing more to the runoff directly at the coast)."
   ]
  },
  {
   "cell_type": "code",
   "execution_count": 26,
   "metadata": {},
   "outputs": [],
   "source": [
    "runoff[:, 1:5, :] = 1\n",
    "runoff[:, 5:8, :] = 0.5\n",
    "runoff[:, 8:10, :] = 0.25"
   ]
  },
  {
   "cell_type": "code",
   "execution_count": 27,
   "metadata": {},
   "outputs": [],
   "source": [
    "number_runoff = np.sum(runoff) # calculate the weighted number of cells that should receive runoff\n",
    "area_runoff = number_runoff * area # calculate the total area of all the cells that receive runoff\n",
    "runoff *= 22173 / area_runoff # divide the total runoff by the total area and distribute this same fraction to every grid cell defined above"
   ]
  },
  {
   "cell_type": "code",
   "execution_count": 28,
   "metadata": {},
   "outputs": [
    {
     "data": {
      "text/plain": [
       "<matplotlib.colorbar.Colorbar at 0x14c04d5007f0>"
      ]
     },
     "execution_count": 28,
     "metadata": {},
     "output_type": "execute_result"
    },
    {
     "data": {
      "image/png": "[encoded data removed]",
      "text/plain": [
       "<Figure size 432x288 with 2 Axes>"
      ]
     },
     "metadata": {
      "needs_background": "light"
     },
     "output_type": "display_data"
    }
   ],
   "source": [
    "plt.pcolormesh(runoff.squeeze())\n",
    "plt.colorbar()"
   ]
  },
  {
   "cell_type": "markdown",
   "metadata": {},
   "source": [
    "We create a field containing only zeros in case we want to switch off one forcing field for tests later on. (E.g. no runoff, no precipitation etc.)"
   ]
  },
  {
   "cell_type": "code",
   "execution_count": 29,
   "metadata": {},
   "outputs": [],
   "source": [
    "only_zeros = zonal_wind * 0."
   ]
  },
  {
   "cell_type": "markdown",
   "metadata": {},
   "source": [
    "We save the variables as big endian single precision floats to binary files for the MITgcm to read them."
   ]
  },
  {
   "cell_type": "code",
   "execution_count": 30,
   "metadata": {},
   "outputs": [],
   "source": [
    "zonal_wind.astype(\">f4\").tofile(setup + \"-\" + confi + \"-era5_zonal_wind.bin\")\n",
    "meridional_wind.astype(\">f4\").tofile(setup + \"-\" + confi + \"-era5_meridional_wind.bin\")\n",
    "temperature.astype(\">f4\").tofile(setup + \"-\" + confi + \"-era5_temperature.bin\")\n",
    "runoff.astype(\">f4\").tofile(setup + \"-\" + confi + \"-era5_runoff.bin\")\n",
    "precipitation.astype(\">f4\").tofile(setup + \"-\" + confi + \"-era5_precipitation.bin\")\n",
    "downward_longwave.astype(\">f4\").tofile(setup + \"-\" + confi + \"-era5_downward_longwave.bin\")\n",
    "downward_shortwave.astype(\">f4\").tofile(setup + \"-\" + confi + \"-era5_downward_shortwave.bin\")\n",
    "specific_humidity.astype(\">f4\").tofile(setup + \"-\" + confi + \"-era5_specific_humidity.bin\")\n",
    "only_zeros.astype(\">f4\").tofile(setup + \"-\" + confi + \"-input_only_zeros.bin\")"
   ]
  },
  {
   "cell_type": "code",
   "execution_count": 31,
   "metadata": {},
   "outputs": [
    {
     "name": "stderr",
     "output_type": "stream",
     "text": [
      "/home/jrieck/.venv/py39/lib/python3.9/site-packages/h5netcdf/core.py:481: H5pyDeprecationWarning: other_ds.dims.create_scale(ds, name) is deprecated. Use ds.make_scale(name) instead.\n",
      "  h5ds.dims.create_scale(h5ds, scale_name)\n"
     ]
    }
   ],
   "source": [
    "ds_out = xr.Dataset(coords={'time': ds_ex_3h['time'], 'x': ds_bathy.x, 'y': ds_bathy.y})\n",
    "ds_out = ds_out.assign(variables={\"temperature\": (('time', 'y', 'x'), temperature)})\n",
    "ds_out[\"temperature\"].attrs = {\"units\": \"deg K\"}\n",
    "ds_out = ds_out.assign(variables={\"zonal_wind\": (('time', 'y', 'x'), zonal_wind)})\n",
    "ds_out[\"zonal_wind\"].attrs = {\"units\": \"m/s\"}\n",
    "ds_out = ds_out.assign(variables={\"meridional_wind\": (('time', 'y', 'x'), meridional_wind)})\n",
    "ds_out[\"meridional_wind\"].attrs = {\"units\": \"m/s\"}\n",
    "ds_out = ds_out.assign(variables={\"precipitation\": (('time', 'y', 'x'), precipitation)})\n",
    "ds_out[\"precipitation\"].attrs = {\"units\": \"m/s\"}\n",
    "ds_out = ds_out.assign(variables={\"downward_shortwave\": (('time', 'y', 'x'), downward_shortwave)})\n",
    "ds_out[\"downward_shortwave\"].attrs = {\"units\": \"W/m^2\"}\n",
    "ds_out = ds_out.assign(variables={\"downward_longwave\": (('time', 'y', 'x'), downward_longwave)})\n",
    "ds_out[\"downward_longwave\"].attrs = {\"units\": \"W/m^2\"}\n",
    "ds_out = ds_out.assign(variables={\"specific_humidity\": (('time', 'y', 'x'), specific_humidity)})\n",
    "ds_out[\"specific_humidity\"].attrs = {\"units\": \"kg/kg\"}\n",
    "ds_out = ds_out.assign(variables={\"runoff\": (('y', 'x'), runoff.squeeze())})\n",
    "ds_out[\"runoff\"].attrs = {\"units\": \"m/s\"}\n",
    "ds_out.to_netcdf(setup + \"-\" + confi + \"-era5-atmospheric_forcing.nc\", engine='h5netcdf')"
   ]
  },
  {
   "cell_type": "code",
   "execution_count": null,
   "metadata": {},
   "outputs": [],
   "source": []
  }
 ],
 "metadata": {
  "kernelspec": {
   "display_name": "py39",
   "language": "python",
   "name": "py39"
  },
  "language_info": {
   "codemirror_mode": {
    "name": "ipython",
    "version": 3
   },
   "file_extension": ".py",
   "mimetype": "text/x-python",
   "name": "python",
   "nbconvert_exporter": "python",
   "pygments_lexer": "ipython3",
   "version": "3.9.6"
  }
 },
 "nbformat": 4,
 "nbformat_minor": 4
}
