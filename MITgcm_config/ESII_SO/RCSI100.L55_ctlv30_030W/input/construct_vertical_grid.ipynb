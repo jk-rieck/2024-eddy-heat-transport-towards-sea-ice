{
 "cells": [
  {
   "cell_type": "markdown",
   "id": "suburban-settle",
   "metadata": {},
   "source": [
    "### Construct a vertical grid following Stewart et al. (2017)\n",
    "This script is adapted from the [Stewart et al., 2017](https://github.com/kialstewart/vertical_grid_for_ocean_models/blob/master/build_vertical_grid_kds.py) script to construct a grid used with the MITgcm. The values of `drF` are to be copied to the `input/data` namelist. Additionally, a netcdf file is created for reference."
   ]
  },
  {
   "cell_type": "code",
   "execution_count": 1,
   "id": "preliminary-productivity",
   "metadata": {},
   "outputs": [],
   "source": [
    "import numpy as np\n",
    "import xarray as xr\n",
    "from matplotlib import pyplot as plt"
   ]
  },
  {
   "cell_type": "code",
   "execution_count": 2,
   "id": "sound-angle",
   "metadata": {},
   "outputs": [],
   "source": [
    "setup = \"ESII_SO\"\n",
    "confi = \"RCSI100.L55_ctlv30_030W\""
   ]
  },
  {
   "cell_type": "markdown",
   "id": "indoor-juice",
   "metadata": {},
   "source": [
    "Choose some parameters for the vertical grid"
   ]
  },
  {
   "cell_type": "code",
   "execution_count": 3,
   "id": "selective-canada",
   "metadata": {},
   "outputs": [],
   "source": [
    "# Maximum depth (meters) of the grid\n",
    "H = 4000.0\n",
    "\n",
    "# Maximum grid spacing (meters) in the deep ocean\n",
    "dzd = 150.0\n",
    "\n",
    "# Minimum grid spacing (meters) at the surface\n",
    "min_dz = 2.0\n",
    "\n",
    "# Sharpness of the hyperbolic tangent (initial value should be adjusted)\n",
    "depfac = 0.95\n",
    "\n",
    "# Name of the file to be written that contains the grid\n",
    "output_name = setup + \"-\" + confi + \"-vertical_grid.nc\""
   ]
  },
  {
   "cell_type": "markdown",
   "id": "rocky-sherman",
   "metadata": {},
   "source": [
    "### Build the grid\n",
    "First, define the functional form of the vertical grid."
   ]
  },
  {
   "cell_type": "code",
   "execution_count": 4,
   "id": "dominican-print",
   "metadata": {},
   "outputs": [],
   "source": [
    "# the function is {tanh(pi*m/H)*dz_max + epsilon}, which is epsilon at the surface and dz_max at H\n",
    "def f_all(kk, H, depfac, dzd, epsilon):\n",
    "    return np.tanh(np.pi * ((kk) / (H * depfac))) * (dzd) + epsilon "
   ]
  },
  {
   "cell_type": "markdown",
   "id": "medical-roberts",
   "metadata": {},
   "source": [
    "This is where the magic happens: an iterative process that takes a step from the current end (deepest point) of the grid along the function to find the next point. After that, we need to relocate the initial grid vertically so that the grid spacing at the surface is min_dz. All this is done in a function so we can interactively change the paraemters later."
   ]
  },
  {
   "cell_type": "code",
   "execution_count": 6,
   "id": "civic-history",
   "metadata": {},
   "outputs": [],
   "source": [
    "def con_grid(H, min_dz, depfac, dzd):\n",
    "    # this is a small number needed to begin the iteration\n",
    "    epsilon = 0.001\n",
    "    # Then, make the first two entries of the initial grid; these will be 0 and epsilon for both z and dz.\n",
    "    delta_z = [0, epsilon * 1.0]\n",
    "    prop_z = [0, epsilon * 1.0]\n",
    "    while prop_z[-1] + delta_z[-1] < 1.2 * H:\n",
    "        aa = np.linspace(1.0, 1.5, 10000)\n",
    "        bb = np.zeros([len(aa)])\n",
    "        loopkill = 1.0\n",
    "        ii = 0\n",
    "        while loopkill > 0:\n",
    "            bb[ii] = (f_all(prop_z[-1] + (delta_z[-1] * aa[ii]), H, depfac, dzd, epsilon)) - (delta_z[-1] * aa[ii])\n",
    "            loopkill = bb[ii]\n",
    "            ii += 1\n",
    "        aa_bb = np.polyfit(aa[:ii-1], bb[:ii-1], 1)\n",
    "        dznew = (delta_z[-1] * (np.abs(aa_bb[1] / aa_bb[0])))\n",
    "        delta_z = np.append(delta_z, dznew)\n",
    "        prop_z = np.append(prop_z, (prop_z[-1] + delta_z[-1]))\n",
    "    # find where the initial grid is min_dz (the surface resolution)\n",
    "    new_surf = np.max(np.where(delta_z <= min_dz)) \n",
    "    # make a new grid that shifts the initial grid vertically\n",
    "    real_prop_z = prop_z[new_surf:] - prop_z[new_surf] \n",
    "    # make a new dz for this new grid\n",
    "    real_delta_z = delta_z[new_surf + 1:] \n",
    "    # cut the new grid off at desired depth, H\n",
    "    real_prop_z = real_prop_z[np.where(real_prop_z < H)]\n",
    "    # and the new dz too\n",
    "    real_delta_z = real_delta_z[np.where(real_prop_z < H)]\n",
    "    return real_prop_z, real_delta_z"
   ]
  },
  {
   "cell_type": "code",
   "execution_count": 7,
   "id": "rocky-vermont",
   "metadata": {},
   "outputs": [],
   "source": [
    "final_prop_z, final_delta_z = con_grid(H, min_dz, depfac, dzd)"
   ]
  },
  {
   "cell_type": "code",
   "execution_count": 8,
   "id": "prospective-motivation",
   "metadata": {},
   "outputs": [],
   "source": [
    "Z = -(final_prop_z + final_delta_z/2)\n",
    "Zp1 = -np.append(final_prop_z[:], final_prop_z[-1] + final_delta_z[-1])\n",
    "Zu = -np.append(final_prop_z[1::], final_prop_z[-1] + final_delta_z[-1])\n",
    "Zl = -final_prop_z\n",
    "drC = np.append(np.append(0 - Z[0], Z[0:-1] - Z[1::]), -Zu[-1] + Z[-1])\n",
    "drF = final_delta_z"
   ]
  },
  {
   "cell_type": "code",
   "execution_count": 9,
   "id": "minor-local",
   "metadata": {},
   "outputs": [
    {
     "name": "stdout",
     "output_type": "stream",
     "text": [
      "[  2.12950489   2.4308905    2.77490323   3.1675587    3.61571496\n",
      "   4.1271872    4.71087665   5.37691441   6.13682095   7.00368101\n",
      "   7.99233291   9.11956927  10.40434342  11.86797199  13.5343178\n",
      "  15.42992871  17.58409559  20.02877577  22.79830608  25.92880133\n",
      "  29.4571029   33.41911167  37.8473202   42.7673766   48.19359034\n",
      "  54.12347726  60.5317637   67.36473409  74.53630909  81.92757038\n",
      "  89.39130539  96.76222993 103.87196047 110.56607025 116.71949717\n",
      " 122.24691006 127.10620628 131.29541339 134.84493639 137.80768112\n",
      " 140.2493299  142.24020421 143.84931689 145.14057911 146.17078598\n",
      " 146.98889983 147.63617797 148.14678645 148.54864422 148.86433209\n",
      " 149.11196865 149.30600265 149.45790119 149.57673112 149.66964071]\n"
     ]
    }
   ],
   "source": [
    "print(drF)"
   ]
  },
  {
   "cell_type": "code",
   "execution_count": 10,
   "id": "ranking-pickup",
   "metadata": {},
   "outputs": [
    {
     "data": {
      "text/plain": [
       "55"
      ]
     },
     "execution_count": 10,
     "metadata": {},
     "output_type": "execute_result"
    }
   ],
   "source": [
    "len(drF)"
   ]
  },
  {
   "cell_type": "code",
   "execution_count": 11,
   "id": "neutral-shell",
   "metadata": {},
   "outputs": [],
   "source": [
    "ds_out = xr.Dataset(coords={\"Z\": ([\"Z\"], Z),\n",
    "                            \"Zp1\": ([\"Zp1\"], Zp1),\n",
    "                            \"Zu\": ([\"Zu\"], Zu),\n",
    "                            \"Zl\": ([\"Zl\"], Zl),\n",
    "                            \"drC\": ([\"Zp1\"], drC),\n",
    "                            \"drF\": ([\"Z\"], drF),\n",
    "                            })\n",
    "ds_out[\"Z\"].attrs = {\"standard_name\": \"depth\", \n",
    "                     \"long_name\": \"vertical coordinate of cell center\",\n",
    "                     \"units\": \"m\",\n",
    "                     \"positive\": \"up\",\n",
    "                     \"axis\": \"Z\"}\n",
    "ds_out[\"Zp1\"].attrs = {\"standard_name\": \"depth_at_w_location\", \n",
    "                       \"long_name\": \"vertical coordinate of cell interface\",\n",
    "                       \"units\": \"m\",\n",
    "                       \"positive\": \"up\",\n",
    "                       \"axis\": \"Z\",\n",
    "                       \"c_grid_axis_shift\": (-0.5, 0.5)}\n",
    "ds_out[\"Zu\"].attrs = {\"standard_name\": \"depth_at_lower_w_location\", \n",
    "                      \"long_name\": \"vertical coordinate of lower cell interface\",\n",
    "                      \"units\": \"m\",\n",
    "                      \"positive\": \"up\",\n",
    "                      \"axis\": \"Z\",\n",
    "                      \"c_grid_axis_shift\": 0.5}\n",
    "ds_out[\"Zl\"].attrs = {\"standard_name\": \"depth_at_upper_w_location\", \n",
    "                      \"long_name\": \"vertical coordinate of upper cell interface\",\n",
    "                      \"units\": \"m\",\n",
    "                      \"positive\": \"up\",\n",
    "                      \"axis\": \"Z\",\n",
    "                      \"c_grid_axis_shift\": -0.5}\n",
    "ds_out[\"drC\"].attrs = {\"standard_name\": \"cell_z_size_at_w_location\", \n",
    "                       \"long_name\": \"cell z size\",\n",
    "                       \"units\": \"m\"}\n",
    "ds_out[\"drF\"].attrs = {\"standard_name\": \"cell_z_size\", \n",
    "                       \"long_name\": \"cell z size\",\n",
    "                       \"units\": \"m\"}\n",
    "ds_out.attrs = {\"input maximum depth H\": str(H),\n",
    "                \"actual maximum depth\": str(-np.min(Zp1)),\n",
    "                \"input minimum grid spacing min_dz\": str(min_dz),\n",
    "                \"actual minimum grid spacing\": str(np.min(drF)),\n",
    "                \"input maximum grid spazing dzd\": str(dzd),\n",
    "                \"actual maximum grid spacing\": str(np.max(drF)),\n",
    "                \"input factor depfac\": str(depfac)}\n"
   ]
  },
  {
   "cell_type": "code",
   "execution_count": 12,
   "id": "satellite-joshua",
   "metadata": {},
   "outputs": [
    {
     "name": "stderr",
     "output_type": "stream",
     "text": [
      "/home/jrieck/.venv/py39/lib/python3.9/site-packages/h5netcdf/core.py:481: H5pyDeprecationWarning: other_ds.dims.create_scale(ds, name) is deprecated. Use ds.make_scale(name) instead.\n",
      "  h5ds.dims.create_scale(h5ds, scale_name)\n"
     ]
    }
   ],
   "source": [
    "ds_out.to_netcdf(output_name, engine='h5netcdf')"
   ]
  },
  {
   "cell_type": "code",
   "execution_count": null,
   "id": "driven-separate",
   "metadata": {},
   "outputs": [],
   "source": []
  },
  {
   "cell_type": "code",
   "execution_count": null,
   "id": "92f67133-d7f8-45d5-8ab7-7c34a4c1efca",
   "metadata": {},
   "outputs": [],
   "source": []
  }
 ],
 "metadata": {
  "kernelspec": {
   "display_name": "py39",
   "language": "python",
   "name": "py39"
  },
  "language_info": {
   "codemirror_mode": {
    "name": "ipython",
    "version": 3
   },
   "file_extension": ".py",
   "mimetype": "text/x-python",
   "name": "python",
   "nbconvert_exporter": "python",
   "pygments_lexer": "ipython3",
   "version": "3.9.6"
  }
 },
 "nbformat": 4,
 "nbformat_minor": 5
}
