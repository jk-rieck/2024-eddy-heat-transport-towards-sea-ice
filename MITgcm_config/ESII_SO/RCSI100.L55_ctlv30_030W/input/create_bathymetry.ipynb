{
 "cells": [
  {
   "cell_type": "code",
   "execution_count": 1,
   "metadata": {},
   "outputs": [],
   "source": [
    "import numpy as np\n",
    "from matplotlib import pyplot as plt\n",
    "import cmocean.cm as cmo\n",
    "import xarray as xr"
   ]
  },
  {
   "cell_type": "code",
   "execution_count": 2,
   "metadata": {},
   "outputs": [],
   "source": [
    "setup = \"ESII_SO\"\n",
    "confi = \"RCSI100.L55_ctlv30_030W\""
   ]
  },
  {
   "cell_type": "markdown",
   "metadata": {},
   "source": [
    "## We need to contruct the bathymetries for our idealized experiments\n",
    "\n",
    "First, the depth axis. We load an axis created with `construct_vertical_grid.ipynb` following the method proposed by [Stewart et al., 2017](https://github.com/kialstewart/vertical_grid_for_ocean_models/blob/master/build_vertical_grid_kds.py). "
   ]
  },
  {
   "cell_type": "code",
   "execution_count": 3,
   "metadata": {},
   "outputs": [],
   "source": [
    "ds_z_axis = xr.open_dataset(setup + \"-\" + confi + \"-vertical_grid.nc\", engine='h5netcdf')\n",
    "dz = ds_z_axis[\"drF\"].values # thickness of cells\n",
    "H_ = np.sum(dz)\n",
    "rF = ds_z_axis[\"Zl\"].values # depth of upper cell faces\n",
    "z = ds_z_axis[\"Z\"].values # depth of vertical cell centers\n",
    "H_int = int(H_)"
   ]
  },
  {
   "cell_type": "markdown",
   "metadata": {},
   "source": [
    "Now the bathymetry"
   ]
  },
  {
   "cell_type": "code",
   "execution_count": 4,
   "metadata": {},
   "outputs": [],
   "source": [
    "##### number of cells in x and y directions\n",
    "x_num_cells = 240\n",
    "y_num_cells = 320\n",
    "\n",
    "# horizontal grid spacing\n",
    "dx = 10\n",
    "dy = 10\n",
    "\n",
    "# x and y axes in km\n",
    "x_in_km = np.linspace(int(dx/2), x_num_cells * dx - int(dx/2), x_num_cells)\n",
    "y_in_km = np.linspace(int(dy/2), y_num_cells * dy - int(dy/2), y_num_cells)\n",
    "\n",
    "# maximum depth of bathymetry\n",
    "max_depth = np.sum(dz)\n",
    "H = -max_depth\n",
    "\n",
    "# simple bathymetry, depth H everywhere\n",
    "bathy = np.ones((y_num_cells, x_num_cells)) * H\n",
    "\n",
    "# add shelf\n",
    "shelf_depth = 300 # depth of the shelf in m\n",
    "shelf_slope_center = 400 # central position of the slope in km\n",
    "shelf_slope_width = 120 # slope half width in km\n",
    "Hs = -shelf_depth\n",
    "shelf_out = (Hs + (0.5 * (H - Hs)) * (1 + np.tanh((y_in_km - shelf_slope_center) / shelf_slope_width)))\n",
    "bathy = shelf_out[:, None] * np.ones((y_num_cells, x_num_cells))\n",
    "\n",
    "bathy[0, :] = 0 # construct a wall at the southern boundary\n",
    "bathy[bathy > -dz[0:3].sum()] = 0 # make sure there are at least three cells in the vertical everywhere where there is water"
   ]
  },
  {
   "cell_type": "code",
   "execution_count": 7,
   "metadata": {},
   "outputs": [
    {
     "data": {
      "image/png": "[encoded data removed]",
      "text/plain": [
       "<Figure size 864x288 with 3 Axes>"
      ]
     },
     "metadata": {
      "needs_background": "light"
     },
     "output_type": "display_data"
    }
   ],
   "source": [
    "fig, axs = plt.subplots(ncols=2, figsize=(12,4))\n",
    "\n",
    "p0 = axs[0].pcolormesh(bathy, cmap=cmo.deep_r)\n",
    "plt.colorbar(p0, ax=axs[0], label=\"m\")\n",
    "axs[0].set_title(\"Bathymetry\")\n",
    "axs[0].set_xlabel(\"x\")\n",
    "axs[0].set_ylabel(\"y\")\n",
    "\n",
    "p1 = axs[1].step(np.arange(0, 100), bathy[0:100,0], where=\"post\")\n",
    "axs[1].set_title(\"Bathymetry -- meridional section of shelf\")\n",
    "axs[1].set_xlabel(\"y\");"
   ]
  },
  {
   "cell_type": "code",
   "execution_count": 8,
   "metadata": {},
   "outputs": [],
   "source": [
    "# thickness of sponge layer to build the restoring mask\n",
    "sponge_size = int(100 / dy)\n",
    "ones_size = int(20 / dy)\n",
    "\n",
    "sponge = (np.tanh(np.linspace(-3, 3, sponge_size)) + 1) / 2\n",
    "\n",
    "mask = np.zeros((1, len(dz), y_num_cells, x_num_cells))\n",
    "mask[:, 1:len(dz) + 1, -ones_size::, :] = 1.0\n",
    "mask[:, 1:len(dz) + 1, -(sponge_size + ones_size):-ones_size, :] = sponge[None, None, :, None]"
   ]
  },
  {
   "cell_type": "code",
   "execution_count": 9,
   "metadata": {},
   "outputs": [
    {
     "data": {
      "text/plain": [
       "[<matplotlib.lines.Line2D at 0x14bcaad35ee0>]"
      ]
     },
     "execution_count": 9,
     "metadata": {},
     "output_type": "execute_result"
    },
    {
     "data": {
      "image/png": "[encoded data removed]",
      "text/plain": [
       "<Figure size 432x288 with 1 Axes>"
      ]
     },
     "metadata": {
      "needs_background": "light"
     },
     "output_type": "display_data"
    }
   ],
   "source": [
    "plt.plot(mask[0, 1, 306::, 0])"
   ]
  },
  {
   "cell_type": "code",
   "execution_count": 10,
   "metadata": {},
   "outputs": [],
   "source": [
    "bathy.astype(\">f4\").tofile(setup + '-' + confi + '-bathymetry_shelf.bin')\n",
    "mask.astype(\">f4\").tofile(setup + '-' + confi + '-restoring_mask_with_sponge.bin')"
   ]
  },
  {
   "cell_type": "code",
   "execution_count": 11,
   "metadata": {},
   "outputs": [],
   "source": [
    "ds = xr.Dataset(data_vars = {\"bathy\": ((\"y\", \"x\"), bathy),\n",
    "                             \"restoring_mask_with_sponge\": ((\"t\", \"z\", \"y\", \"x\"), mask)},\n",
    "                coords = {\"z\": ((\"z\"), z),\n",
    "                          \"y\": ((\"y\"), np.linspace(dy / 2, (y_num_cells * dy) - dy / 2, y_num_cells)),\n",
    "                          \"x\": ((\"x\"), np.linspace(dx / 2, (x_num_cells * dx) - dx / 2, x_num_cells))})\n",
    "ds[\"bathy\"].attrs = {\"standard_name\": \"sea_floor_depth_below_reference_ellipsoid\",\n",
    "                     \"long_name\": \"bathymetry\",\n",
    "                     \"units\": \"m\",\n",
    "                     \"positive\": \"up\"}\n",
    "ds[\"z\"].attrs = {\"standard_name\": \"depth\", \n",
    "                 \"long_name\": \"vertical coordinate of cell center\",\n",
    "                 \"units\": \"m\",\n",
    "                 \"positive\": \"up\",\n",
    "                 \"axis\": \"Z\"}\n",
    "ds[\"y\"].attrs = {\"long_name\": \"y coordinate\",\n",
    "                 \"units\": \"km\",\n",
    "                 \"axis\": \"Y\",\n",
    "                 \"grid_spacing\": dy}\n",
    "ds[\"x\"].attrs = {\"long_name\": \"x coordinate\",\n",
    "                 \"units\": \"km\",\n",
    "                 \"axis\": \"X\",\n",
    "                 \"grid_spacing\": dx}"
   ]
  },
  {
   "cell_type": "code",
   "execution_count": 12,
   "metadata": {},
   "outputs": [
    {
     "name": "stderr",
     "output_type": "stream",
     "text": [
      "/home/jrieck/.venv/py39/lib/python3.9/site-packages/h5netcdf/core.py:481: H5pyDeprecationWarning: other_ds.dims.create_scale(ds, name) is deprecated. Use ds.make_scale(name) instead.\n",
      "  h5ds.dims.create_scale(h5ds, scale_name)\n"
     ]
    }
   ],
   "source": [
    "ds.to_netcdf(setup + '-' + confi + '-bathymetry_and_mask.nc', engine='h5netcdf')"
   ]
  },
  {
   "cell_type": "code",
   "execution_count": null,
   "metadata": {},
   "outputs": [],
   "source": []
  },
  {
   "cell_type": "code",
   "execution_count": null,
   "metadata": {},
   "outputs": [],
   "source": []
  }
 ],
 "metadata": {
  "kernelspec": {
   "display_name": "py39",
   "language": "python",
   "name": "py39"
  },
  "language_info": {
   "codemirror_mode": {
    "name": "ipython",
    "version": 3
   },
   "file_extension": ".py",
   "mimetype": "text/x-python",
   "name": "python",
   "nbconvert_exporter": "python",
   "pygments_lexer": "ipython3",
   "version": "3.9.6"
  }
 },
 "nbformat": 4,
 "nbformat_minor": 4
}
